{
 "cells": [
  {
   "cell_type": "code",
   "execution_count": 22,
   "metadata": {},
   "outputs": [],
   "source": [
    "import pandas as pd\n",
    "import numpy as np\n",
    "import matplotlib.pyplot as plt"
   ]
  },
  {
   "cell_type": "code",
   "execution_count": 23,
   "metadata": {},
   "outputs": [],
   "source": [
    "df = pd.read_csv('PricingData - PricingData.csv')"
   ]
  },
  {
   "cell_type": "code",
   "execution_count": 24,
   "metadata": {},
   "outputs": [
    {
     "data": {
      "text/html": [
       "<div>\n",
       "<style scoped>\n",
       "    .dataframe tbody tr th:only-of-type {\n",
       "        vertical-align: middle;\n",
       "    }\n",
       "\n",
       "    .dataframe tbody tr th {\n",
       "        vertical-align: top;\n",
       "    }\n",
       "\n",
       "    .dataframe thead th {\n",
       "        text-align: right;\n",
       "    }\n",
       "</style>\n",
       "<table border=\"1\" class=\"dataframe\">\n",
       "  <thead>\n",
       "    <tr style=\"text-align: right;\">\n",
       "      <th></th>\n",
       "      <th>Seat Fare Type 1</th>\n",
       "      <th>Seat Fare Type 2</th>\n",
       "      <th>Bus</th>\n",
       "      <th>Service Date</th>\n",
       "      <th>RecordedAt</th>\n",
       "    </tr>\n",
       "  </thead>\n",
       "  <tbody>\n",
       "    <tr>\n",
       "      <th>0</th>\n",
       "      <td>900.00,800.00</td>\n",
       "      <td>NaN</td>\n",
       "      <td>d6fa79179fda2a77455794637f225962</td>\n",
       "      <td>15-07-2020 00:00</td>\n",
       "      <td>11-07-2020 16:28</td>\n",
       "    </tr>\n",
       "    <tr>\n",
       "      <th>1</th>\n",
       "      <td>910.00,833.00,795.00,762.00</td>\n",
       "      <td>NaN</td>\n",
       "      <td>d6fa79179fda2a77455794637f225962</td>\n",
       "      <td>15-07-2020 00:00</td>\n",
       "      <td>11-07-2020 19:17</td>\n",
       "    </tr>\n",
       "    <tr>\n",
       "      <th>2</th>\n",
       "      <td>910.00,833.00,795.00,762.00</td>\n",
       "      <td>NaN</td>\n",
       "      <td>d6fa79179fda2a77455794637f225962</td>\n",
       "      <td>15-07-2020 00:00</td>\n",
       "      <td>12-07-2020 09:02</td>\n",
       "    </tr>\n",
       "    <tr>\n",
       "      <th>3</th>\n",
       "      <td>910.00,833.00,795.00,762.00</td>\n",
       "      <td>NaN</td>\n",
       "      <td>d6fa79179fda2a77455794637f225962</td>\n",
       "      <td>15-07-2020 00:00</td>\n",
       "      <td>12-07-2020 10:05</td>\n",
       "    </tr>\n",
       "    <tr>\n",
       "      <th>4</th>\n",
       "      <td>876.00,800.00,767.00,729.00</td>\n",
       "      <td>NaN</td>\n",
       "      <td>d6fa79179fda2a77455794637f225962</td>\n",
       "      <td>15-07-2020 00:00</td>\n",
       "      <td>13-07-2020 01:53</td>\n",
       "    </tr>\n",
       "  </tbody>\n",
       "</table>\n",
       "</div>"
      ],
      "text/plain": [
       "              Seat Fare Type 1 Seat Fare Type 2  \\\n",
       "0                900.00,800.00              NaN   \n",
       "1  910.00,833.00,795.00,762.00              NaN   \n",
       "2  910.00,833.00,795.00,762.00              NaN   \n",
       "3  910.00,833.00,795.00,762.00              NaN   \n",
       "4  876.00,800.00,767.00,729.00              NaN   \n",
       "\n",
       "                                Bus      Service Date        RecordedAt  \n",
       "0  d6fa79179fda2a77455794637f225962  15-07-2020 00:00  11-07-2020 16:28  \n",
       "1  d6fa79179fda2a77455794637f225962  15-07-2020 00:00  11-07-2020 19:17  \n",
       "2  d6fa79179fda2a77455794637f225962  15-07-2020 00:00  12-07-2020 09:02  \n",
       "3  d6fa79179fda2a77455794637f225962  15-07-2020 00:00  12-07-2020 10:05  \n",
       "4  d6fa79179fda2a77455794637f225962  15-07-2020 00:00  13-07-2020 01:53  "
      ]
     },
     "execution_count": 24,
     "metadata": {},
     "output_type": "execute_result"
    }
   ],
   "source": [
    "df.head()"
   ]
  },
  {
   "cell_type": "code",
   "execution_count": 25,
   "metadata": {},
   "outputs": [],
   "source": [
    "# df['Service Date'] = df['Service Date'].to_datetime\n",
    "df['Service Date'] =  pd.to_datetime(df['Service Date'] ,)"
   ]
  },
  {
   "cell_type": "code",
   "execution_count": 26,
   "metadata": {},
   "outputs": [],
   "source": [
    "df['RecordedAt'] = pd.to_datetime(df['RecordedAt'])"
   ]
  },
  {
   "cell_type": "code",
   "execution_count": 27,
   "metadata": {},
   "outputs": [],
   "source": [
    "df['Seat Fare Type 1'] = df['Seat Fare Type 1'].astype('string')\n",
    "df['Seat Fare Type 2'] = df['Seat Fare Type 2'].astype('string')\n",
    "df['Bus'] = df['Bus'].astype('string')"
   ]
  },
  {
   "cell_type": "code",
   "execution_count": 28,
   "metadata": {},
   "outputs": [
    {
     "name": "stdout",
     "output_type": "stream",
     "text": [
      "<class 'pandas.core.frame.DataFrame'>\n",
      "RangeIndex: 30649 entries, 0 to 30648\n",
      "Data columns (total 5 columns):\n",
      " #   Column            Non-Null Count  Dtype         \n",
      "---  ------            --------------  -----         \n",
      " 0   Seat Fare Type 1  17785 non-null  string        \n",
      " 1   Seat Fare Type 2  12746 non-null  string        \n",
      " 2   Bus               30649 non-null  string        \n",
      " 3   Service Date      30649 non-null  datetime64[ns]\n",
      " 4   RecordedAt        30649 non-null  datetime64[ns]\n",
      "dtypes: datetime64[ns](2), string(3)\n",
      "memory usage: 1.2 MB\n"
     ]
    }
   ],
   "source": [
    "df.info()"
   ]
  },
  {
   "cell_type": "code",
   "execution_count": 29,
   "metadata": {},
   "outputs": [],
   "source": [
    "df['service day'] = df['Service Date'].dt.day\n",
    "df['recorded day'] = df['RecordedAt'].dt.day\n",
    "df['recorded hrs'] = df['RecordedAt'].dt.hour\n",
    "df['recorded min'] = df['RecordedAt'].dt.minute"
   ]
  },
  {
   "cell_type": "code",
   "execution_count": 30,
   "metadata": {},
   "outputs": [
    {
     "data": {
      "text/html": [
       "<div>\n",
       "<style scoped>\n",
       "    .dataframe tbody tr th:only-of-type {\n",
       "        vertical-align: middle;\n",
       "    }\n",
       "\n",
       "    .dataframe tbody tr th {\n",
       "        vertical-align: top;\n",
       "    }\n",
       "\n",
       "    .dataframe thead th {\n",
       "        text-align: right;\n",
       "    }\n",
       "</style>\n",
       "<table border=\"1\" class=\"dataframe\">\n",
       "  <thead>\n",
       "    <tr style=\"text-align: right;\">\n",
       "      <th></th>\n",
       "      <th>Seat Fare Type 1</th>\n",
       "      <th>Seat Fare Type 2</th>\n",
       "      <th>Bus</th>\n",
       "      <th>service day</th>\n",
       "      <th>recorded day</th>\n",
       "      <th>recorded hrs</th>\n",
       "      <th>recorded min</th>\n",
       "    </tr>\n",
       "  </thead>\n",
       "  <tbody>\n",
       "    <tr>\n",
       "      <th>0</th>\n",
       "      <td>900.00,800.00</td>\n",
       "      <td>&lt;NA&gt;</td>\n",
       "      <td>d6fa79179fda2a77455794637f225962</td>\n",
       "      <td>15</td>\n",
       "      <td>7</td>\n",
       "      <td>16</td>\n",
       "      <td>28</td>\n",
       "    </tr>\n",
       "    <tr>\n",
       "      <th>1</th>\n",
       "      <td>910.00,833.00,795.00,762.00</td>\n",
       "      <td>&lt;NA&gt;</td>\n",
       "      <td>d6fa79179fda2a77455794637f225962</td>\n",
       "      <td>15</td>\n",
       "      <td>7</td>\n",
       "      <td>19</td>\n",
       "      <td>17</td>\n",
       "    </tr>\n",
       "    <tr>\n",
       "      <th>2</th>\n",
       "      <td>910.00,833.00,795.00,762.00</td>\n",
       "      <td>&lt;NA&gt;</td>\n",
       "      <td>d6fa79179fda2a77455794637f225962</td>\n",
       "      <td>15</td>\n",
       "      <td>7</td>\n",
       "      <td>9</td>\n",
       "      <td>2</td>\n",
       "    </tr>\n",
       "    <tr>\n",
       "      <th>3</th>\n",
       "      <td>910.00,833.00,795.00,762.00</td>\n",
       "      <td>&lt;NA&gt;</td>\n",
       "      <td>d6fa79179fda2a77455794637f225962</td>\n",
       "      <td>15</td>\n",
       "      <td>7</td>\n",
       "      <td>10</td>\n",
       "      <td>5</td>\n",
       "    </tr>\n",
       "    <tr>\n",
       "      <th>4</th>\n",
       "      <td>876.00,800.00,767.00,729.00</td>\n",
       "      <td>&lt;NA&gt;</td>\n",
       "      <td>d6fa79179fda2a77455794637f225962</td>\n",
       "      <td>15</td>\n",
       "      <td>13</td>\n",
       "      <td>1</td>\n",
       "      <td>53</td>\n",
       "    </tr>\n",
       "    <tr>\n",
       "      <th>...</th>\n",
       "      <td>...</td>\n",
       "      <td>...</td>\n",
       "      <td>...</td>\n",
       "      <td>...</td>\n",
       "      <td>...</td>\n",
       "      <td>...</td>\n",
       "      <td>...</td>\n",
       "    </tr>\n",
       "    <tr>\n",
       "      <th>30644</th>\n",
       "      <td>925.00,810.00</td>\n",
       "      <td>&lt;NA&gt;</td>\n",
       "      <td>6ebe14c775a983e43b07c55e6b71d77d</td>\n",
       "      <td>30</td>\n",
       "      <td>30</td>\n",
       "      <td>7</td>\n",
       "      <td>59</td>\n",
       "    </tr>\n",
       "    <tr>\n",
       "      <th>30645</th>\n",
       "      <td>925.00,810.00</td>\n",
       "      <td>&lt;NA&gt;</td>\n",
       "      <td>6ebe14c775a983e43b07c55e6b71d77d</td>\n",
       "      <td>30</td>\n",
       "      <td>30</td>\n",
       "      <td>7</td>\n",
       "      <td>59</td>\n",
       "    </tr>\n",
       "    <tr>\n",
       "      <th>30646</th>\n",
       "      <td>925.00,810.00</td>\n",
       "      <td>&lt;NA&gt;</td>\n",
       "      <td>6ebe14c775a983e43b07c55e6b71d77d</td>\n",
       "      <td>30</td>\n",
       "      <td>30</td>\n",
       "      <td>8</td>\n",
       "      <td>8</td>\n",
       "    </tr>\n",
       "    <tr>\n",
       "      <th>30647</th>\n",
       "      <td>925.00,810.00</td>\n",
       "      <td>&lt;NA&gt;</td>\n",
       "      <td>6ebe14c775a983e43b07c55e6b71d77d</td>\n",
       "      <td>30</td>\n",
       "      <td>30</td>\n",
       "      <td>8</td>\n",
       "      <td>21</td>\n",
       "    </tr>\n",
       "    <tr>\n",
       "      <th>30648</th>\n",
       "      <td>925.00,810.00</td>\n",
       "      <td>&lt;NA&gt;</td>\n",
       "      <td>6ebe14c775a983e43b07c55e6b71d77d</td>\n",
       "      <td>30</td>\n",
       "      <td>30</td>\n",
       "      <td>8</td>\n",
       "      <td>21</td>\n",
       "    </tr>\n",
       "  </tbody>\n",
       "</table>\n",
       "<p>30649 rows × 7 columns</p>\n",
       "</div>"
      ],
      "text/plain": [
       "                  Seat Fare Type 1 Seat Fare Type 2  \\\n",
       "0                    900.00,800.00             <NA>   \n",
       "1      910.00,833.00,795.00,762.00             <NA>   \n",
       "2      910.00,833.00,795.00,762.00             <NA>   \n",
       "3      910.00,833.00,795.00,762.00             <NA>   \n",
       "4      876.00,800.00,767.00,729.00             <NA>   \n",
       "...                            ...              ...   \n",
       "30644                925.00,810.00             <NA>   \n",
       "30645                925.00,810.00             <NA>   \n",
       "30646                925.00,810.00             <NA>   \n",
       "30647                925.00,810.00             <NA>   \n",
       "30648                925.00,810.00             <NA>   \n",
       "\n",
       "                                    Bus  service day  recorded day  \\\n",
       "0      d6fa79179fda2a77455794637f225962           15             7   \n",
       "1      d6fa79179fda2a77455794637f225962           15             7   \n",
       "2      d6fa79179fda2a77455794637f225962           15             7   \n",
       "3      d6fa79179fda2a77455794637f225962           15             7   \n",
       "4      d6fa79179fda2a77455794637f225962           15            13   \n",
       "...                                 ...          ...           ...   \n",
       "30644  6ebe14c775a983e43b07c55e6b71d77d           30            30   \n",
       "30645  6ebe14c775a983e43b07c55e6b71d77d           30            30   \n",
       "30646  6ebe14c775a983e43b07c55e6b71d77d           30            30   \n",
       "30647  6ebe14c775a983e43b07c55e6b71d77d           30            30   \n",
       "30648  6ebe14c775a983e43b07c55e6b71d77d           30            30   \n",
       "\n",
       "       recorded hrs  recorded min  \n",
       "0                16            28  \n",
       "1                19            17  \n",
       "2                 9             2  \n",
       "3                10             5  \n",
       "4                 1            53  \n",
       "...             ...           ...  \n",
       "30644             7            59  \n",
       "30645             7            59  \n",
       "30646             8             8  \n",
       "30647             8            21  \n",
       "30648             8            21  \n",
       "\n",
       "[30649 rows x 7 columns]"
      ]
     },
     "execution_count": 30,
     "metadata": {},
     "output_type": "execute_result"
    }
   ],
   "source": [
    "df.drop(columns=['Service Date','RecordedAt'])"
   ]
  },
  {
   "cell_type": "code",
   "execution_count": 36,
   "metadata": {},
   "outputs": [
    {
     "name": "stdout",
     "output_type": "stream",
     "text": [
      "total lenght of data 30649\n",
      "total unique buses 117\n"
     ]
    }
   ],
   "source": [
    "print(f'total lenght of data {len(df)}')\n",
    "print(f'total unique buses {len(df.Bus.unique())}')"
   ]
  },
  {
   "cell_type": "code",
   "execution_count": null,
   "metadata": {},
   "outputs": [],
   "source": [
    "#  IS COLUMN TWO OF SEAT FARE TYPE 2 USEFUL ENOUGH ??"
   ]
  }
 ],
 "metadata": {
  "interpreter": {
   "hash": "380030d1298d5a27518acca789ff38fe82bbf2e68b73263de6a6bf23efb7704c"
  },
  "kernelspec": {
   "display_name": "Python 3.9.7 64-bit ('base': conda)",
   "language": "python",
   "name": "python3"
  },
  "language_info": {
   "codemirror_mode": {
    "name": "ipython",
    "version": 3
   },
   "file_extension": ".py",
   "mimetype": "text/x-python",
   "name": "python",
   "nbconvert_exporter": "python",
   "pygments_lexer": "ipython3",
   "version": "3.9.7"
  },
  "orig_nbformat": 4
 },
 "nbformat": 4,
 "nbformat_minor": 2
}
