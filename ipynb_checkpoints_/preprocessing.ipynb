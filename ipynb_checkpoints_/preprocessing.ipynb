{
 "cells": [
  {
   "cell_type": "code",
   "execution_count": 2,
   "metadata": {},
   "outputs": [],
   "source": [
    "import pandas as pd\n",
    "import numpy as np\n",
    "import matplotlib.pyplot as plt"
   ]
  },
  {
   "cell_type": "code",
   "execution_count": 5,
   "metadata": {},
   "outputs": [],
   "source": [
    "df = pd.read_csv('PricingData - PricingData.csv')"
   ]
  },
  {
   "cell_type": "code",
   "execution_count": 6,
   "metadata": {},
   "outputs": [
    {
     "data": {
      "text/html": [
       "<div>\n",
       "<style scoped>\n",
       "    .dataframe tbody tr th:only-of-type {\n",
       "        vertical-align: middle;\n",
       "    }\n",
       "\n",
       "    .dataframe tbody tr th {\n",
       "        vertical-align: top;\n",
       "    }\n",
       "\n",
       "    .dataframe thead th {\n",
       "        text-align: right;\n",
       "    }\n",
       "</style>\n",
       "<table border=\"1\" class=\"dataframe\">\n",
       "  <thead>\n",
       "    <tr style=\"text-align: right;\">\n",
       "      <th></th>\n",
       "      <th>Seat Fare Type 1</th>\n",
       "      <th>Seat Fare Type 2</th>\n",
       "      <th>Bus</th>\n",
       "      <th>Service Date</th>\n",
       "      <th>RecordedAt</th>\n",
       "    </tr>\n",
       "  </thead>\n",
       "  <tbody>\n",
       "    <tr>\n",
       "      <th>0</th>\n",
       "      <td>900.00,800.00</td>\n",
       "      <td>NaN</td>\n",
       "      <td>d6fa79179fda2a77455794637f225962</td>\n",
       "      <td>15-07-2020 00:00</td>\n",
       "      <td>11-07-2020 16:28</td>\n",
       "    </tr>\n",
       "    <tr>\n",
       "      <th>1</th>\n",
       "      <td>910.00,833.00,795.00,762.00</td>\n",
       "      <td>NaN</td>\n",
       "      <td>d6fa79179fda2a77455794637f225962</td>\n",
       "      <td>15-07-2020 00:00</td>\n",
       "      <td>11-07-2020 19:17</td>\n",
       "    </tr>\n",
       "    <tr>\n",
       "      <th>2</th>\n",
       "      <td>910.00,833.00,795.00,762.00</td>\n",
       "      <td>NaN</td>\n",
       "      <td>d6fa79179fda2a77455794637f225962</td>\n",
       "      <td>15-07-2020 00:00</td>\n",
       "      <td>12-07-2020 09:02</td>\n",
       "    </tr>\n",
       "    <tr>\n",
       "      <th>3</th>\n",
       "      <td>910.00,833.00,795.00,762.00</td>\n",
       "      <td>NaN</td>\n",
       "      <td>d6fa79179fda2a77455794637f225962</td>\n",
       "      <td>15-07-2020 00:00</td>\n",
       "      <td>12-07-2020 10:05</td>\n",
       "    </tr>\n",
       "    <tr>\n",
       "      <th>4</th>\n",
       "      <td>876.00,800.00,767.00,729.00</td>\n",
       "      <td>NaN</td>\n",
       "      <td>d6fa79179fda2a77455794637f225962</td>\n",
       "      <td>15-07-2020 00:00</td>\n",
       "      <td>13-07-2020 01:53</td>\n",
       "    </tr>\n",
       "  </tbody>\n",
       "</table>\n",
       "</div>"
      ],
      "text/plain": [
       "              Seat Fare Type 1 Seat Fare Type 2  \\\n",
       "0                900.00,800.00              NaN   \n",
       "1  910.00,833.00,795.00,762.00              NaN   \n",
       "2  910.00,833.00,795.00,762.00              NaN   \n",
       "3  910.00,833.00,795.00,762.00              NaN   \n",
       "4  876.00,800.00,767.00,729.00              NaN   \n",
       "\n",
       "                                Bus      Service Date        RecordedAt  \n",
       "0  d6fa79179fda2a77455794637f225962  15-07-2020 00:00  11-07-2020 16:28  \n",
       "1  d6fa79179fda2a77455794637f225962  15-07-2020 00:00  11-07-2020 19:17  \n",
       "2  d6fa79179fda2a77455794637f225962  15-07-2020 00:00  12-07-2020 09:02  \n",
       "3  d6fa79179fda2a77455794637f225962  15-07-2020 00:00  12-07-2020 10:05  \n",
       "4  d6fa79179fda2a77455794637f225962  15-07-2020 00:00  13-07-2020 01:53  "
      ]
     },
     "execution_count": 6,
     "metadata": {},
     "output_type": "execute_result"
    }
   ],
   "source": [
    "df.head()"
   ]
  },
  {
   "cell_type": "code",
   "execution_count": 12,
   "metadata": {},
   "outputs": [],
   "source": [
    "# df['Service Date'] = df['Service Date'].to_datetime\n",
    "df['Service Date'] =  pd.to_datetime(df['Service Date'] ,)"
   ]
  },
  {
   "cell_type": "code",
   "execution_count": 13,
   "metadata": {},
   "outputs": [],
   "source": [
    "df['RecordedAt'] = pd.to_datetime(df['RecordedAt'])"
   ]
  },
  {
   "cell_type": "code",
   "execution_count": 15,
   "metadata": {},
   "outputs": [
    {
     "data": {
      "text/plain": [
       "117"
      ]
     },
     "execution_count": 15,
     "metadata": {},
     "output_type": "execute_result"
    }
   ],
   "source": [
    "len(df['Bus'].unique())"
   ]
  },
  {
   "cell_type": "code",
   "execution_count": 23,
   "metadata": {},
   "outputs": [],
   "source": [
    "df['Seat Fare Type 1'] = df['Seat Fare Type 1'].astype('string')\n",
    "df['Seat Fare Type 2'] = df['Seat Fare Type 2'].astype('string')\n",
    "df['Bus'] = df['Bus'].astype('string')"
   ]
  },
  {
   "cell_type": "code",
   "execution_count": 24,
   "metadata": {},
   "outputs": [
    {
     "name": "stdout",
     "output_type": "stream",
     "text": [
      "<class 'pandas.core.frame.DataFrame'>\n",
      "RangeIndex: 30649 entries, 0 to 30648\n",
      "Data columns (total 5 columns):\n",
      " #   Column            Non-Null Count  Dtype         \n",
      "---  ------            --------------  -----         \n",
      " 0   Seat Fare Type 1  30649 non-null  string        \n",
      " 1   Seat Fare Type 2  30649 non-null  string        \n",
      " 2   Bus               30649 non-null  string        \n",
      " 3   Service Date      30649 non-null  datetime64[ns]\n",
      " 4   RecordedAt        30649 non-null  datetime64[ns]\n",
      "dtypes: datetime64[ns](2), string(3)\n",
      "memory usage: 1.2 MB\n"
     ]
    }
   ],
   "source": [
    "df.info()"
   ]
  },
  {
   "cell_type": "code",
   "execution_count": 28,
   "metadata": {},
   "outputs": [
    {
     "data": {
      "text/html": [
       "<div>\n",
       "<style scoped>\n",
       "    .dataframe tbody tr th:only-of-type {\n",
       "        vertical-align: middle;\n",
       "    }\n",
       "\n",
       "    .dataframe tbody tr th {\n",
       "        vertical-align: top;\n",
       "    }\n",
       "\n",
       "    .dataframe thead th {\n",
       "        text-align: right;\n",
       "    }\n",
       "</style>\n",
       "<table border=\"1\" class=\"dataframe\">\n",
       "  <thead>\n",
       "    <tr style=\"text-align: right;\">\n",
       "      <th></th>\n",
       "      <th>Seat Fare Type 1</th>\n",
       "      <th>Seat Fare Type 2</th>\n",
       "      <th>Bus</th>\n",
       "      <th>Service Date</th>\n",
       "      <th>RecordedAt</th>\n",
       "    </tr>\n",
       "  </thead>\n",
       "  <tbody>\n",
       "    <tr>\n",
       "      <th>30644</th>\n",
       "      <td>0                                           90...</td>\n",
       "      <td>0                                NaN\n",
       "1        ...</td>\n",
       "      <td>0        d6fa79179fda2a77455794637f225962\n",
       "1   ...</td>\n",
       "      <td>2020-07-30</td>\n",
       "      <td>2020-07-30 07:59:00</td>\n",
       "    </tr>\n",
       "    <tr>\n",
       "      <th>30645</th>\n",
       "      <td>0                                           90...</td>\n",
       "      <td>0                                NaN\n",
       "1        ...</td>\n",
       "      <td>0        d6fa79179fda2a77455794637f225962\n",
       "1   ...</td>\n",
       "      <td>2020-07-30</td>\n",
       "      <td>2020-07-30 07:59:00</td>\n",
       "    </tr>\n",
       "    <tr>\n",
       "      <th>30646</th>\n",
       "      <td>0                                           90...</td>\n",
       "      <td>0                                NaN\n",
       "1        ...</td>\n",
       "      <td>0        d6fa79179fda2a77455794637f225962\n",
       "1   ...</td>\n",
       "      <td>2020-07-30</td>\n",
       "      <td>2020-07-30 08:08:00</td>\n",
       "    </tr>\n",
       "    <tr>\n",
       "      <th>30647</th>\n",
       "      <td>0                                           90...</td>\n",
       "      <td>0                                NaN\n",
       "1        ...</td>\n",
       "      <td>0        d6fa79179fda2a77455794637f225962\n",
       "1   ...</td>\n",
       "      <td>2020-07-30</td>\n",
       "      <td>2020-07-30 08:21:00</td>\n",
       "    </tr>\n",
       "    <tr>\n",
       "      <th>30648</th>\n",
       "      <td>0                                           90...</td>\n",
       "      <td>0                                NaN\n",
       "1        ...</td>\n",
       "      <td>0        d6fa79179fda2a77455794637f225962\n",
       "1   ...</td>\n",
       "      <td>2020-07-30</td>\n",
       "      <td>2020-07-30 08:21:00</td>\n",
       "    </tr>\n",
       "  </tbody>\n",
       "</table>\n",
       "</div>"
      ],
      "text/plain": [
       "                                        Seat Fare Type 1  \\\n",
       "30644  0                                           90...   \n",
       "30645  0                                           90...   \n",
       "30646  0                                           90...   \n",
       "30647  0                                           90...   \n",
       "30648  0                                           90...   \n",
       "\n",
       "                                        Seat Fare Type 2  \\\n",
       "30644  0                                NaN\n",
       "1        ...   \n",
       "30645  0                                NaN\n",
       "1        ...   \n",
       "30646  0                                NaN\n",
       "1        ...   \n",
       "30647  0                                NaN\n",
       "1        ...   \n",
       "30648  0                                NaN\n",
       "1        ...   \n",
       "\n",
       "                                                     Bus Service Date  \\\n",
       "30644  0        d6fa79179fda2a77455794637f225962\n",
       "1   ...   2020-07-30   \n",
       "30645  0        d6fa79179fda2a77455794637f225962\n",
       "1   ...   2020-07-30   \n",
       "30646  0        d6fa79179fda2a77455794637f225962\n",
       "1   ...   2020-07-30   \n",
       "30647  0        d6fa79179fda2a77455794637f225962\n",
       "1   ...   2020-07-30   \n",
       "30648  0        d6fa79179fda2a77455794637f225962\n",
       "1   ...   2020-07-30   \n",
       "\n",
       "               RecordedAt  \n",
       "30644 2020-07-30 07:59:00  \n",
       "30645 2020-07-30 07:59:00  \n",
       "30646 2020-07-30 08:08:00  \n",
       "30647 2020-07-30 08:21:00  \n",
       "30648 2020-07-30 08:21:00  "
      ]
     },
     "execution_count": 28,
     "metadata": {},
     "output_type": "execute_result"
    }
   ],
   "source": [
    "df.tail()"
   ]
  }
 ],
 "metadata": {
  "interpreter": {
   "hash": "380030d1298d5a27518acca789ff38fe82bbf2e68b73263de6a6bf23efb7704c"
  },
  "kernelspec": {
   "display_name": "Python 3.9.7 64-bit ('base': conda)",
   "language": "python",
   "name": "python3"
  },
  "language_info": {
   "codemirror_mode": {
    "name": "ipython",
    "version": 3
   },
   "file_extension": ".py",
   "mimetype": "text/x-python",
   "name": "python",
   "nbconvert_exporter": "python",
   "pygments_lexer": "ipython3",
   "version": "3.9.7"
  },
  "orig_nbformat": 4
 },
 "nbformat": 4,
 "nbformat_minor": 2
}
