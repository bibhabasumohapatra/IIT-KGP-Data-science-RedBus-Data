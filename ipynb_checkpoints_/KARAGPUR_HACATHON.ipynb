{
  "nbformat": 4,
  "nbformat_minor": 0,
  "metadata": {
    "colab": {
      "name": "KARAGPUR_HACATHON.ipynb",
      "provenance": [],
      "collapsed_sections": []
    },
    "kernelspec": {
      "name": "python3",
      "display_name": "Python 3"
    },
    "language_info": {
      "name": "python"
    }
  },
  "cells": [
    {
      "cell_type": "code",
      "metadata": {
        "colab": {
          "base_uri": "https://localhost:8080/"
        },
        "id": "Ql146M-oTnsV",
        "outputId": "ebd70405-cc00-4310-a8fe-fd1eb84458c3"
      },
      "source": [
        "from google.colab import drive\n",
        "drive.mount('/content/drive')"
      ],
      "execution_count": null,
      "outputs": [
        {
          "output_type": "stream",
          "name": "stdout",
          "text": [
            "Mounted at /content/drive\n"
          ]
        }
      ]
    },
    {
      "cell_type": "code",
      "metadata": {
        "id": "BqMVrOapTqiN"
      },
      "source": [
        "import pandas as pd\n",
        "import numpy as np"
      ],
      "execution_count": null,
      "outputs": []
    },
    {
      "cell_type": "code",
      "metadata": {
        "id": "bGWNXMi_Tsj5"
      },
      "source": [
        "df=pd.read_csv(\"/content/drive/MyDrive/PricingData.csv\")"
      ],
      "execution_count": null,
      "outputs": []
    },
    {
      "cell_type": "code",
      "metadata": {
        "colab": {
          "base_uri": "https://localhost:8080/",
          "height": 363
        },
        "id": "1U8OetPdTsiM",
        "outputId": "5cc1377a-bb0f-4533-c377-af4ed8672528"
      },
      "source": [
        "df.head(10)"
      ],
      "execution_count": null,
      "outputs": [
        {
          "output_type": "execute_result",
          "data": {
            "text/html": [
              "<div>\n",
              "<style scoped>\n",
              "    .dataframe tbody tr th:only-of-type {\n",
              "        vertical-align: middle;\n",
              "    }\n",
              "\n",
              "    .dataframe tbody tr th {\n",
              "        vertical-align: top;\n",
              "    }\n",
              "\n",
              "    .dataframe thead th {\n",
              "        text-align: right;\n",
              "    }\n",
              "</style>\n",
              "<table border=\"1\" class=\"dataframe\">\n",
              "  <thead>\n",
              "    <tr style=\"text-align: right;\">\n",
              "      <th></th>\n",
              "      <th>Seat Fare Type 1</th>\n",
              "      <th>Seat Fare Type 2</th>\n",
              "      <th>Bus</th>\n",
              "      <th>Service Date</th>\n",
              "      <th>RecordedAt</th>\n",
              "    </tr>\n",
              "  </thead>\n",
              "  <tbody>\n",
              "    <tr>\n",
              "      <th>0</th>\n",
              "      <td>900.00,800.00</td>\n",
              "      <td>NaN</td>\n",
              "      <td>d6fa79179fda2a77455794637f225962</td>\n",
              "      <td>15-07-2020 00:00</td>\n",
              "      <td>11-07-2020 16:28</td>\n",
              "    </tr>\n",
              "    <tr>\n",
              "      <th>1</th>\n",
              "      <td>910.00,833.00,795.00,762.00</td>\n",
              "      <td>NaN</td>\n",
              "      <td>d6fa79179fda2a77455794637f225962</td>\n",
              "      <td>15-07-2020 00:00</td>\n",
              "      <td>11-07-2020 19:17</td>\n",
              "    </tr>\n",
              "    <tr>\n",
              "      <th>2</th>\n",
              "      <td>910.00,833.00,795.00,762.00</td>\n",
              "      <td>NaN</td>\n",
              "      <td>d6fa79179fda2a77455794637f225962</td>\n",
              "      <td>15-07-2020 00:00</td>\n",
              "      <td>12-07-2020 09:02</td>\n",
              "    </tr>\n",
              "    <tr>\n",
              "      <th>3</th>\n",
              "      <td>910.00,833.00,795.00,762.00</td>\n",
              "      <td>NaN</td>\n",
              "      <td>d6fa79179fda2a77455794637f225962</td>\n",
              "      <td>15-07-2020 00:00</td>\n",
              "      <td>12-07-2020 10:05</td>\n",
              "    </tr>\n",
              "    <tr>\n",
              "      <th>4</th>\n",
              "      <td>876.00,800.00,767.00,729.00</td>\n",
              "      <td>NaN</td>\n",
              "      <td>d6fa79179fda2a77455794637f225962</td>\n",
              "      <td>15-07-2020 00:00</td>\n",
              "      <td>13-07-2020 01:53</td>\n",
              "    </tr>\n",
              "    <tr>\n",
              "      <th>5</th>\n",
              "      <td>600</td>\n",
              "      <td>NaN</td>\n",
              "      <td>d6fa79179fda2a77455794637f225962</td>\n",
              "      <td>15-07-2020 00:00</td>\n",
              "      <td>14-07-2020 06:16</td>\n",
              "    </tr>\n",
              "    <tr>\n",
              "      <th>6</th>\n",
              "      <td>876.00,800.00,767.00,729.00</td>\n",
              "      <td>NaN</td>\n",
              "      <td>d6fa79179fda2a77455794637f225962</td>\n",
              "      <td>15-07-2020 00:00</td>\n",
              "      <td>14-07-2020 06:37</td>\n",
              "    </tr>\n",
              "    <tr>\n",
              "      <th>7</th>\n",
              "      <td>800.00,767.00,729.00</td>\n",
              "      <td>NaN</td>\n",
              "      <td>d6fa79179fda2a77455794637f225962</td>\n",
              "      <td>15-07-2020 00:00</td>\n",
              "      <td>14-07-2020 06:38</td>\n",
              "    </tr>\n",
              "    <tr>\n",
              "      <th>8</th>\n",
              "      <td>876.00,800.00,767.00,729.00</td>\n",
              "      <td>NaN</td>\n",
              "      <td>d6fa79179fda2a77455794637f225962</td>\n",
              "      <td>15-07-2020 00:00</td>\n",
              "      <td>14-07-2020 07:15</td>\n",
              "    </tr>\n",
              "    <tr>\n",
              "      <th>9</th>\n",
              "      <td>729</td>\n",
              "      <td>NaN</td>\n",
              "      <td>d6fa79179fda2a77455794637f225962</td>\n",
              "      <td>15-07-2020 00:00</td>\n",
              "      <td>14-07-2020 08:13</td>\n",
              "    </tr>\n",
              "  </tbody>\n",
              "</table>\n",
              "</div>"
            ],
            "text/plain": [
              "              Seat Fare Type 1  ...        RecordedAt\n",
              "0                900.00,800.00  ...  11-07-2020 16:28\n",
              "1  910.00,833.00,795.00,762.00  ...  11-07-2020 19:17\n",
              "2  910.00,833.00,795.00,762.00  ...  12-07-2020 09:02\n",
              "3  910.00,833.00,795.00,762.00  ...  12-07-2020 10:05\n",
              "4  876.00,800.00,767.00,729.00  ...  13-07-2020 01:53\n",
              "5                          600  ...  14-07-2020 06:16\n",
              "6  876.00,800.00,767.00,729.00  ...  14-07-2020 06:37\n",
              "7         800.00,767.00,729.00  ...  14-07-2020 06:38\n",
              "8  876.00,800.00,767.00,729.00  ...  14-07-2020 07:15\n",
              "9                          729  ...  14-07-2020 08:13\n",
              "\n",
              "[10 rows x 5 columns]"
            ]
          },
          "metadata": {},
          "execution_count": 4
        }
      ]
    },
    {
      "cell_type": "code",
      "metadata": {
        "id": "rs3apikLTsgO"
      },
      "source": [
        "s=set()\n",
        "for i in df[\"Service Date\"].unique():\n",
        "  s.add(i)\n",
        "for i in df[\"RecordedAt\"].unique():\n",
        "  s.add(i)\n",
        "\n",
        "l=[]\n",
        "for i in s:\n",
        "  l.append(i)\n",
        "\n",
        "l.sort()\n",
        "\n",
        "time_to_index={}\n",
        "for i,j in enumerate(l):\n",
        "  time_to_index[j]=i\n"
      ],
      "execution_count": null,
      "outputs": []
    },
    {
      "cell_type": "code",
      "metadata": {
        "id": "PPY1glaMVoAp"
      },
      "source": [
        "# l"
      ],
      "execution_count": null,
      "outputs": []
    },
    {
      "cell_type": "code",
      "metadata": {
        "id": "hnPanmtqTseR"
      },
      "source": [
        "def transform(s):\n",
        "  return time_to_index[s]"
      ],
      "execution_count": null,
      "outputs": []
    },
    {
      "cell_type": "code",
      "metadata": {
        "id": "Dib8Dn5rTsY8"
      },
      "source": [
        "df[\"NEW Service Date\"]=df[\"Service Date\"].map(transform)\n",
        "df[\"New RecordedAt\"]=df[\"RecordedAt\"].map(transform)"
      ],
      "execution_count": null,
      "outputs": []
    },
    {
      "cell_type": "code",
      "metadata": {
        "colab": {
          "base_uri": "https://localhost:8080/",
          "height": 206
        },
        "id": "S3LxbXg-TsWO",
        "outputId": "93169183-19b2-4607-829e-f821bfdf3b06"
      },
      "source": [
        "df.head()"
      ],
      "execution_count": null,
      "outputs": [
        {
          "output_type": "execute_result",
          "data": {
            "text/html": [
              "<div>\n",
              "<style scoped>\n",
              "    .dataframe tbody tr th:only-of-type {\n",
              "        vertical-align: middle;\n",
              "    }\n",
              "\n",
              "    .dataframe tbody tr th {\n",
              "        vertical-align: top;\n",
              "    }\n",
              "\n",
              "    .dataframe thead th {\n",
              "        text-align: right;\n",
              "    }\n",
              "</style>\n",
              "<table border=\"1\" class=\"dataframe\">\n",
              "  <thead>\n",
              "    <tr style=\"text-align: right;\">\n",
              "      <th></th>\n",
              "      <th>Seat Fare Type 1</th>\n",
              "      <th>Seat Fare Type 2</th>\n",
              "      <th>Bus</th>\n",
              "      <th>Service Date</th>\n",
              "      <th>RecordedAt</th>\n",
              "      <th>NEW Service Date</th>\n",
              "      <th>New RecordedAt</th>\n",
              "    </tr>\n",
              "  </thead>\n",
              "  <tbody>\n",
              "    <tr>\n",
              "      <th>0</th>\n",
              "      <td>900.00,800.00</td>\n",
              "      <td>NaN</td>\n",
              "      <td>d6fa79179fda2a77455794637f225962</td>\n",
              "      <td>15-07-2020 00:00</td>\n",
              "      <td>11-07-2020 16:28</td>\n",
              "      <td>1250</td>\n",
              "      <td>540</td>\n",
              "    </tr>\n",
              "    <tr>\n",
              "      <th>1</th>\n",
              "      <td>910.00,833.00,795.00,762.00</td>\n",
              "      <td>NaN</td>\n",
              "      <td>d6fa79179fda2a77455794637f225962</td>\n",
              "      <td>15-07-2020 00:00</td>\n",
              "      <td>11-07-2020 19:17</td>\n",
              "      <td>1250</td>\n",
              "      <td>550</td>\n",
              "    </tr>\n",
              "    <tr>\n",
              "      <th>2</th>\n",
              "      <td>910.00,833.00,795.00,762.00</td>\n",
              "      <td>NaN</td>\n",
              "      <td>d6fa79179fda2a77455794637f225962</td>\n",
              "      <td>15-07-2020 00:00</td>\n",
              "      <td>12-07-2020 09:02</td>\n",
              "      <td>1250</td>\n",
              "      <td>578</td>\n",
              "    </tr>\n",
              "    <tr>\n",
              "      <th>3</th>\n",
              "      <td>910.00,833.00,795.00,762.00</td>\n",
              "      <td>NaN</td>\n",
              "      <td>d6fa79179fda2a77455794637f225962</td>\n",
              "      <td>15-07-2020 00:00</td>\n",
              "      <td>12-07-2020 10:05</td>\n",
              "      <td>1250</td>\n",
              "      <td>582</td>\n",
              "    </tr>\n",
              "    <tr>\n",
              "      <th>4</th>\n",
              "      <td>876.00,800.00,767.00,729.00</td>\n",
              "      <td>NaN</td>\n",
              "      <td>d6fa79179fda2a77455794637f225962</td>\n",
              "      <td>15-07-2020 00:00</td>\n",
              "      <td>13-07-2020 01:53</td>\n",
              "      <td>1250</td>\n",
              "      <td>656</td>\n",
              "    </tr>\n",
              "  </tbody>\n",
              "</table>\n",
              "</div>"
            ],
            "text/plain": [
              "              Seat Fare Type 1  ... New RecordedAt\n",
              "0                900.00,800.00  ...            540\n",
              "1  910.00,833.00,795.00,762.00  ...            550\n",
              "2  910.00,833.00,795.00,762.00  ...            578\n",
              "3  910.00,833.00,795.00,762.00  ...            582\n",
              "4  876.00,800.00,767.00,729.00  ...            656\n",
              "\n",
              "[5 rows x 7 columns]"
            ]
          },
          "metadata": {},
          "execution_count": 8
        }
      ]
    },
    {
      "cell_type": "code",
      "metadata": {
        "id": "ljtexVEAV6SP"
      },
      "source": [
        "df[\"Seat Fare Type 1\"]=df[\"Seat Fare Type 1\"].fillna(\"0.0\")\n",
        "df[\"Seat Fare Type 2\"]=df[\"Seat Fare Type 2\"].fillna(\"0.0\")"
      ],
      "execution_count": null,
      "outputs": []
    },
    {
      "cell_type": "code",
      "metadata": {
        "id": "5zaAPJ66TsTn"
      },
      "source": [
        "def transform_seat_type(l):\n",
        "  l=l.split(\",\")\n",
        "  ans=0\n",
        "  for i in l:\n",
        "    ans=ans+float(i)\n",
        "  ans=ans/len(l)\n",
        "  return ans"
      ],
      "execution_count": null,
      "outputs": []
    },
    {
      "cell_type": "code",
      "metadata": {
        "id": "bD0XC0VCWFVk"
      },
      "source": [
        "df[\"New Seat Fare Type 1\"]=df[\"Seat Fare Type 1\"].map(transform_seat_type)\n",
        "df[\"New Seat Fare Type 2\"]=df[\"Seat Fare Type 2\"].map(transform_seat_type)"
      ],
      "execution_count": null,
      "outputs": []
    },
    {
      "cell_type": "code",
      "metadata": {
        "id": "9fFTpZXjWQ2x"
      },
      "source": [
        "df[\"Total Fare\"]=(df[\"New Seat Fare Type 1\"]+df[\"New Seat Fare Type 2\"])/2"
      ],
      "execution_count": null,
      "outputs": []
    },
    {
      "cell_type": "code",
      "metadata": {
        "colab": {
          "base_uri": "https://localhost:8080/",
          "height": 310
        },
        "id": "MoOTBL_RWcjN",
        "outputId": "212eec37-5ef6-4328-d528-7d7f4946954c"
      },
      "source": [
        "df.head()"
      ],
      "execution_count": null,
      "outputs": [
        {
          "output_type": "execute_result",
          "data": {
            "text/html": [
              "<div>\n",
              "<style scoped>\n",
              "    .dataframe tbody tr th:only-of-type {\n",
              "        vertical-align: middle;\n",
              "    }\n",
              "\n",
              "    .dataframe tbody tr th {\n",
              "        vertical-align: top;\n",
              "    }\n",
              "\n",
              "    .dataframe thead th {\n",
              "        text-align: right;\n",
              "    }\n",
              "</style>\n",
              "<table border=\"1\" class=\"dataframe\">\n",
              "  <thead>\n",
              "    <tr style=\"text-align: right;\">\n",
              "      <th></th>\n",
              "      <th>Seat Fare Type 1</th>\n",
              "      <th>Seat Fare Type 2</th>\n",
              "      <th>Bus</th>\n",
              "      <th>Service Date</th>\n",
              "      <th>RecordedAt</th>\n",
              "      <th>NEW Service Date</th>\n",
              "      <th>New RecordedAt</th>\n",
              "      <th>New Seat Fare Type 1</th>\n",
              "      <th>New Seat Fare Type 2</th>\n",
              "      <th>Total Fare</th>\n",
              "    </tr>\n",
              "  </thead>\n",
              "  <tbody>\n",
              "    <tr>\n",
              "      <th>0</th>\n",
              "      <td>900.00,800.00</td>\n",
              "      <td>0.0</td>\n",
              "      <td>d6fa79179fda2a77455794637f225962</td>\n",
              "      <td>15-07-2020 00:00</td>\n",
              "      <td>11-07-2020 16:28</td>\n",
              "      <td>1250</td>\n",
              "      <td>540</td>\n",
              "      <td>850.0</td>\n",
              "      <td>0.0</td>\n",
              "      <td>425.0</td>\n",
              "    </tr>\n",
              "    <tr>\n",
              "      <th>1</th>\n",
              "      <td>910.00,833.00,795.00,762.00</td>\n",
              "      <td>0.0</td>\n",
              "      <td>d6fa79179fda2a77455794637f225962</td>\n",
              "      <td>15-07-2020 00:00</td>\n",
              "      <td>11-07-2020 19:17</td>\n",
              "      <td>1250</td>\n",
              "      <td>550</td>\n",
              "      <td>825.0</td>\n",
              "      <td>0.0</td>\n",
              "      <td>412.5</td>\n",
              "    </tr>\n",
              "    <tr>\n",
              "      <th>2</th>\n",
              "      <td>910.00,833.00,795.00,762.00</td>\n",
              "      <td>0.0</td>\n",
              "      <td>d6fa79179fda2a77455794637f225962</td>\n",
              "      <td>15-07-2020 00:00</td>\n",
              "      <td>12-07-2020 09:02</td>\n",
              "      <td>1250</td>\n",
              "      <td>578</td>\n",
              "      <td>825.0</td>\n",
              "      <td>0.0</td>\n",
              "      <td>412.5</td>\n",
              "    </tr>\n",
              "    <tr>\n",
              "      <th>3</th>\n",
              "      <td>910.00,833.00,795.00,762.00</td>\n",
              "      <td>0.0</td>\n",
              "      <td>d6fa79179fda2a77455794637f225962</td>\n",
              "      <td>15-07-2020 00:00</td>\n",
              "      <td>12-07-2020 10:05</td>\n",
              "      <td>1250</td>\n",
              "      <td>582</td>\n",
              "      <td>825.0</td>\n",
              "      <td>0.0</td>\n",
              "      <td>412.5</td>\n",
              "    </tr>\n",
              "    <tr>\n",
              "      <th>4</th>\n",
              "      <td>876.00,800.00,767.00,729.00</td>\n",
              "      <td>0.0</td>\n",
              "      <td>d6fa79179fda2a77455794637f225962</td>\n",
              "      <td>15-07-2020 00:00</td>\n",
              "      <td>13-07-2020 01:53</td>\n",
              "      <td>1250</td>\n",
              "      <td>656</td>\n",
              "      <td>793.0</td>\n",
              "      <td>0.0</td>\n",
              "      <td>396.5</td>\n",
              "    </tr>\n",
              "  </tbody>\n",
              "</table>\n",
              "</div>"
            ],
            "text/plain": [
              "              Seat Fare Type 1  ... Total Fare\n",
              "0                900.00,800.00  ...      425.0\n",
              "1  910.00,833.00,795.00,762.00  ...      412.5\n",
              "2  910.00,833.00,795.00,762.00  ...      412.5\n",
              "3  910.00,833.00,795.00,762.00  ...      412.5\n",
              "4  876.00,800.00,767.00,729.00  ...      396.5\n",
              "\n",
              "[5 rows x 10 columns]"
            ]
          },
          "metadata": {},
          "execution_count": 15
        }
      ]
    },
    {
      "cell_type": "code",
      "metadata": {
        "id": "e9j2vjBWWdh2"
      },
      "source": [
        "bus_to_index={}\n",
        "l=[]\n",
        "for i in df.Bus.unique():\n",
        "  l.append(i)\n",
        "for i,j in enumerate(l):\n",
        "  bus_to_index[j]=i"
      ],
      "execution_count": null,
      "outputs": []
    },
    {
      "cell_type": "code",
      "metadata": {
        "id": "Cub8p9cHWuD3"
      },
      "source": [
        "def transform_bus(s):\n",
        "  return bus_to_index[s]"
      ],
      "execution_count": null,
      "outputs": []
    },
    {
      "cell_type": "code",
      "metadata": {
        "id": "vjMuK1fpW3ev"
      },
      "source": [
        "df[\"BUSSES\"]=df[\"Bus\"].map(transform_bus)"
      ],
      "execution_count": null,
      "outputs": []
    },
    {
      "cell_type": "code",
      "metadata": {
        "colab": {
          "base_uri": "https://localhost:8080/",
          "height": 310
        },
        "id": "B852fbsaW_Ut",
        "outputId": "b976424a-cd86-4512-91bb-bac394eacc38"
      },
      "source": [
        "df.head()"
      ],
      "execution_count": null,
      "outputs": [
        {
          "output_type": "execute_result",
          "data": {
            "text/html": [
              "<div>\n",
              "<style scoped>\n",
              "    .dataframe tbody tr th:only-of-type {\n",
              "        vertical-align: middle;\n",
              "    }\n",
              "\n",
              "    .dataframe tbody tr th {\n",
              "        vertical-align: top;\n",
              "    }\n",
              "\n",
              "    .dataframe thead th {\n",
              "        text-align: right;\n",
              "    }\n",
              "</style>\n",
              "<table border=\"1\" class=\"dataframe\">\n",
              "  <thead>\n",
              "    <tr style=\"text-align: right;\">\n",
              "      <th></th>\n",
              "      <th>Seat Fare Type 1</th>\n",
              "      <th>Seat Fare Type 2</th>\n",
              "      <th>Bus</th>\n",
              "      <th>Service Date</th>\n",
              "      <th>RecordedAt</th>\n",
              "      <th>NEW Service Date</th>\n",
              "      <th>New RecordedAt</th>\n",
              "      <th>New Seat Fare Type 1</th>\n",
              "      <th>New Seat Fare Type 2</th>\n",
              "      <th>Total Fare</th>\n",
              "      <th>BUSSES</th>\n",
              "    </tr>\n",
              "  </thead>\n",
              "  <tbody>\n",
              "    <tr>\n",
              "      <th>0</th>\n",
              "      <td>900.00,800.00</td>\n",
              "      <td>0.0</td>\n",
              "      <td>d6fa79179fda2a77455794637f225962</td>\n",
              "      <td>15-07-2020 00:00</td>\n",
              "      <td>11-07-2020 16:28</td>\n",
              "      <td>1250</td>\n",
              "      <td>540</td>\n",
              "      <td>850.0</td>\n",
              "      <td>0.0</td>\n",
              "      <td>425.0</td>\n",
              "      <td>0</td>\n",
              "    </tr>\n",
              "    <tr>\n",
              "      <th>1</th>\n",
              "      <td>910.00,833.00,795.00,762.00</td>\n",
              "      <td>0.0</td>\n",
              "      <td>d6fa79179fda2a77455794637f225962</td>\n",
              "      <td>15-07-2020 00:00</td>\n",
              "      <td>11-07-2020 19:17</td>\n",
              "      <td>1250</td>\n",
              "      <td>550</td>\n",
              "      <td>825.0</td>\n",
              "      <td>0.0</td>\n",
              "      <td>412.5</td>\n",
              "      <td>0</td>\n",
              "    </tr>\n",
              "    <tr>\n",
              "      <th>2</th>\n",
              "      <td>910.00,833.00,795.00,762.00</td>\n",
              "      <td>0.0</td>\n",
              "      <td>d6fa79179fda2a77455794637f225962</td>\n",
              "      <td>15-07-2020 00:00</td>\n",
              "      <td>12-07-2020 09:02</td>\n",
              "      <td>1250</td>\n",
              "      <td>578</td>\n",
              "      <td>825.0</td>\n",
              "      <td>0.0</td>\n",
              "      <td>412.5</td>\n",
              "      <td>0</td>\n",
              "    </tr>\n",
              "    <tr>\n",
              "      <th>3</th>\n",
              "      <td>910.00,833.00,795.00,762.00</td>\n",
              "      <td>0.0</td>\n",
              "      <td>d6fa79179fda2a77455794637f225962</td>\n",
              "      <td>15-07-2020 00:00</td>\n",
              "      <td>12-07-2020 10:05</td>\n",
              "      <td>1250</td>\n",
              "      <td>582</td>\n",
              "      <td>825.0</td>\n",
              "      <td>0.0</td>\n",
              "      <td>412.5</td>\n",
              "      <td>0</td>\n",
              "    </tr>\n",
              "    <tr>\n",
              "      <th>4</th>\n",
              "      <td>876.00,800.00,767.00,729.00</td>\n",
              "      <td>0.0</td>\n",
              "      <td>d6fa79179fda2a77455794637f225962</td>\n",
              "      <td>15-07-2020 00:00</td>\n",
              "      <td>13-07-2020 01:53</td>\n",
              "      <td>1250</td>\n",
              "      <td>656</td>\n",
              "      <td>793.0</td>\n",
              "      <td>0.0</td>\n",
              "      <td>396.5</td>\n",
              "      <td>0</td>\n",
              "    </tr>\n",
              "  </tbody>\n",
              "</table>\n",
              "</div>"
            ],
            "text/plain": [
              "              Seat Fare Type 1 Seat Fare Type 2  ... Total Fare BUSSES\n",
              "0                900.00,800.00              0.0  ...      425.0      0\n",
              "1  910.00,833.00,795.00,762.00              0.0  ...      412.5      0\n",
              "2  910.00,833.00,795.00,762.00              0.0  ...      412.5      0\n",
              "3  910.00,833.00,795.00,762.00              0.0  ...      412.5      0\n",
              "4  876.00,800.00,767.00,729.00              0.0  ...      396.5      0\n",
              "\n",
              "[5 rows x 11 columns]"
            ]
          },
          "metadata": {},
          "execution_count": 19
        }
      ]
    },
    {
      "cell_type": "code",
      "metadata": {
        "id": "vd9lTBetW_OX"
      },
      "source": [
        "df_new=df[[\"BUSSES\",\"Total Fare\",\"NEW Service Date\",\"New RecordedAt\"]]"
      ],
      "execution_count": null,
      "outputs": []
    },
    {
      "cell_type": "code",
      "metadata": {
        "colab": {
          "base_uri": "https://localhost:8080/",
          "height": 206
        },
        "id": "vgR5llxAW_L9",
        "outputId": "269ae63b-6fbf-475c-c275-41edb045ea01"
      },
      "source": [
        "df_new.head()"
      ],
      "execution_count": null,
      "outputs": [
        {
          "output_type": "execute_result",
          "data": {
            "text/html": [
              "<div>\n",
              "<style scoped>\n",
              "    .dataframe tbody tr th:only-of-type {\n",
              "        vertical-align: middle;\n",
              "    }\n",
              "\n",
              "    .dataframe tbody tr th {\n",
              "        vertical-align: top;\n",
              "    }\n",
              "\n",
              "    .dataframe thead th {\n",
              "        text-align: right;\n",
              "    }\n",
              "</style>\n",
              "<table border=\"1\" class=\"dataframe\">\n",
              "  <thead>\n",
              "    <tr style=\"text-align: right;\">\n",
              "      <th></th>\n",
              "      <th>BUSSES</th>\n",
              "      <th>Total Fare</th>\n",
              "      <th>NEW Service Date</th>\n",
              "      <th>New RecordedAt</th>\n",
              "    </tr>\n",
              "  </thead>\n",
              "  <tbody>\n",
              "    <tr>\n",
              "      <th>0</th>\n",
              "      <td>0</td>\n",
              "      <td>425.0</td>\n",
              "      <td>1250</td>\n",
              "      <td>540</td>\n",
              "    </tr>\n",
              "    <tr>\n",
              "      <th>1</th>\n",
              "      <td>0</td>\n",
              "      <td>412.5</td>\n",
              "      <td>1250</td>\n",
              "      <td>550</td>\n",
              "    </tr>\n",
              "    <tr>\n",
              "      <th>2</th>\n",
              "      <td>0</td>\n",
              "      <td>412.5</td>\n",
              "      <td>1250</td>\n",
              "      <td>578</td>\n",
              "    </tr>\n",
              "    <tr>\n",
              "      <th>3</th>\n",
              "      <td>0</td>\n",
              "      <td>412.5</td>\n",
              "      <td>1250</td>\n",
              "      <td>582</td>\n",
              "    </tr>\n",
              "    <tr>\n",
              "      <th>4</th>\n",
              "      <td>0</td>\n",
              "      <td>396.5</td>\n",
              "      <td>1250</td>\n",
              "      <td>656</td>\n",
              "    </tr>\n",
              "  </tbody>\n",
              "</table>\n",
              "</div>"
            ],
            "text/plain": [
              "   BUSSES  Total Fare  NEW Service Date  New RecordedAt\n",
              "0       0       425.0              1250             540\n",
              "1       0       412.5              1250             550\n",
              "2       0       412.5              1250             578\n",
              "3       0       412.5              1250             582\n",
              "4       0       396.5              1250             656"
            ]
          },
          "metadata": {},
          "execution_count": 30
        }
      ]
    },
    {
      "cell_type": "code",
      "metadata": {
        "id": "vNA0LIPvW_Jl"
      },
      "source": [
        "bus_min=min(df_new[\"BUSSES\"])\n",
        "bus_max=max(df_new[\"BUSSES\"])\n",
        "\n",
        "TF_min=min(df_new[\"Total Fare\"])\n",
        "TF_max=max(df_new[\"Total Fare\"])\n",
        "\n",
        "NSD_min=min(df_new[\"NEW Service Date\"])\n",
        "NSD_max=max(df_new[\"NEW Service Date\"])\n",
        "\n",
        "NRA_min=min(df_new[\"New RecordedAt\"])\n",
        "NRA_max=max(df_new[\"New RecordedAt\"])\n",
        "\n",
        "date_min=min(NSD_min,NRA_min)\n",
        "date_max=max(NSD_max,NRA_max)"
      ],
      "execution_count": null,
      "outputs": []
    },
    {
      "cell_type": "code",
      "metadata": {
        "colab": {
          "base_uri": "https://localhost:8080/"
        },
        "id": "tmIzBmUNW_Gu",
        "outputId": "8c21f5e9-7031-4c64-a31c-682ece2cda72"
      },
      "source": [
        "df_new[\"BUSSES\"]=(df_new[\"BUSSES\"]-bus_min)/(bus_max-bus_min)\n",
        "\n",
        "df_new[\"Total Fare\"]=(df_new[\"Total Fare\"]-TF_min)/(TF_max-TF_min)\n",
        "\n",
        "df_new[\"NEW Service Date\"]=(df_new[\"NEW Service Date\"]-date_min)/(date_max-date_min)\n",
        "\n",
        "df_new[\"New RecordedAt\"]=(df_new[\"New RecordedAt\"]-date_min)/(date_max-date_min)"
      ],
      "execution_count": null,
      "outputs": [
        {
          "output_type": "stream",
          "name": "stderr",
          "text": [
            "/usr/local/lib/python3.7/dist-packages/ipykernel_launcher.py:1: SettingWithCopyWarning: \n",
            "A value is trying to be set on a copy of a slice from a DataFrame.\n",
            "Try using .loc[row_indexer,col_indexer] = value instead\n",
            "\n",
            "See the caveats in the documentation: https://pandas.pydata.org/pandas-docs/stable/user_guide/indexing.html#returning-a-view-versus-a-copy\n",
            "  \"\"\"Entry point for launching an IPython kernel.\n",
            "/usr/local/lib/python3.7/dist-packages/ipykernel_launcher.py:3: SettingWithCopyWarning: \n",
            "A value is trying to be set on a copy of a slice from a DataFrame.\n",
            "Try using .loc[row_indexer,col_indexer] = value instead\n",
            "\n",
            "See the caveats in the documentation: https://pandas.pydata.org/pandas-docs/stable/user_guide/indexing.html#returning-a-view-versus-a-copy\n",
            "  This is separate from the ipykernel package so we can avoid doing imports until\n",
            "/usr/local/lib/python3.7/dist-packages/ipykernel_launcher.py:5: SettingWithCopyWarning: \n",
            "A value is trying to be set on a copy of a slice from a DataFrame.\n",
            "Try using .loc[row_indexer,col_indexer] = value instead\n",
            "\n",
            "See the caveats in the documentation: https://pandas.pydata.org/pandas-docs/stable/user_guide/indexing.html#returning-a-view-versus-a-copy\n",
            "  \"\"\"\n",
            "/usr/local/lib/python3.7/dist-packages/ipykernel_launcher.py:7: SettingWithCopyWarning: \n",
            "A value is trying to be set on a copy of a slice from a DataFrame.\n",
            "Try using .loc[row_indexer,col_indexer] = value instead\n",
            "\n",
            "See the caveats in the documentation: https://pandas.pydata.org/pandas-docs/stable/user_guide/indexing.html#returning-a-view-versus-a-copy\n",
            "  import sys\n"
          ]
        }
      ]
    },
    {
      "cell_type": "code",
      "metadata": {
        "colab": {
          "base_uri": "https://localhost:8080/",
          "height": 206
        },
        "id": "YaN76auMW-Q-",
        "outputId": "58d966af-441a-43c4-9e91-2a5bfc54829c"
      },
      "source": [
        "df_new.head()"
      ],
      "execution_count": null,
      "outputs": [
        {
          "output_type": "execute_result",
          "data": {
            "text/html": [
              "<div>\n",
              "<style scoped>\n",
              "    .dataframe tbody tr th:only-of-type {\n",
              "        vertical-align: middle;\n",
              "    }\n",
              "\n",
              "    .dataframe tbody tr th {\n",
              "        vertical-align: top;\n",
              "    }\n",
              "\n",
              "    .dataframe thead th {\n",
              "        text-align: right;\n",
              "    }\n",
              "</style>\n",
              "<table border=\"1\" class=\"dataframe\">\n",
              "  <thead>\n",
              "    <tr style=\"text-align: right;\">\n",
              "      <th></th>\n",
              "      <th>BUSSES</th>\n",
              "      <th>Total Fare</th>\n",
              "      <th>NEW Service Date</th>\n",
              "      <th>New RecordedAt</th>\n",
              "    </tr>\n",
              "  </thead>\n",
              "  <tbody>\n",
              "    <tr>\n",
              "      <th>0</th>\n",
              "      <td>0.0</td>\n",
              "      <td>0.586611</td>\n",
              "      <td>0.102375</td>\n",
              "      <td>0.044226</td>\n",
              "    </tr>\n",
              "    <tr>\n",
              "      <th>1</th>\n",
              "      <td>0.0</td>\n",
              "      <td>0.569358</td>\n",
              "      <td>0.102375</td>\n",
              "      <td>0.045045</td>\n",
              "    </tr>\n",
              "    <tr>\n",
              "      <th>2</th>\n",
              "      <td>0.0</td>\n",
              "      <td>0.569358</td>\n",
              "      <td>0.102375</td>\n",
              "      <td>0.047338</td>\n",
              "    </tr>\n",
              "    <tr>\n",
              "      <th>3</th>\n",
              "      <td>0.0</td>\n",
              "      <td>0.569358</td>\n",
              "      <td>0.102375</td>\n",
              "      <td>0.047666</td>\n",
              "    </tr>\n",
              "    <tr>\n",
              "      <th>4</th>\n",
              "      <td>0.0</td>\n",
              "      <td>0.547274</td>\n",
              "      <td>0.102375</td>\n",
              "      <td>0.053726</td>\n",
              "    </tr>\n",
              "  </tbody>\n",
              "</table>\n",
              "</div>"
            ],
            "text/plain": [
              "   BUSSES  Total Fare  NEW Service Date  New RecordedAt\n",
              "0     0.0    0.586611          0.102375        0.044226\n",
              "1     0.0    0.569358          0.102375        0.045045\n",
              "2     0.0    0.569358          0.102375        0.047338\n",
              "3     0.0    0.569358          0.102375        0.047666\n",
              "4     0.0    0.547274          0.102375        0.053726"
            ]
          },
          "metadata": {},
          "execution_count": 33
        }
      ]
    },
    {
      "cell_type": "code",
      "metadata": {
        "id": "epItduFXayhE"
      },
      "source": [
        "from sklearn.cluster import KMeans\n",
        "kmeans=KMeans(n_clusters=2)"
      ],
      "execution_count": null,
      "outputs": []
    },
    {
      "cell_type": "code",
      "metadata": {
        "colab": {
          "base_uri": "https://localhost:8080/"
        },
        "id": "Rybs-uPhbRhQ",
        "outputId": "d68a9976-4d48-4674-e3c0-9ebe1aaa1e6f"
      },
      "source": [
        "kmeans.fit(df_new)"
      ],
      "execution_count": null,
      "outputs": [
        {
          "output_type": "execute_result",
          "data": {
            "text/plain": [
              "KMeans(n_clusters=2)"
            ]
          },
          "metadata": {},
          "execution_count": 35
        }
      ]
    },
    {
      "cell_type": "code",
      "metadata": {
        "colab": {
          "base_uri": "https://localhost:8080/"
        },
        "id": "rtl7HeEQbWuD",
        "outputId": "1ecfbdd2-de16-4898-9ac0-1dcf6e7ec2c3"
      },
      "source": [
        "kmeans.cluster_centers_"
      ],
      "execution_count": null,
      "outputs": [
        {
          "output_type": "execute_result",
          "data": {
            "text/plain": [
              "array([[0.35883266, 0.43124965, 0.32190009, 0.27629387],\n",
              "       [0.46838508, 0.38958298, 0.76015379, 0.74510275]])"
            ]
          },
          "metadata": {},
          "execution_count": 36
        }
      ]
    },
    {
      "cell_type": "code",
      "metadata": {
        "colab": {
          "base_uri": "https://localhost:8080/"
        },
        "id": "dOfuXO2xbbzP",
        "outputId": "ae9a1f3a-5e23-459d-919f-5826abbef3f1"
      },
      "source": [
        "df_new[\"CLASS\"]=kmeans.predict(df_new)"
      ],
      "execution_count": null,
      "outputs": [
        {
          "output_type": "stream",
          "name": "stderr",
          "text": [
            "/usr/local/lib/python3.7/dist-packages/ipykernel_launcher.py:1: SettingWithCopyWarning: \n",
            "A value is trying to be set on a copy of a slice from a DataFrame.\n",
            "Try using .loc[row_indexer,col_indexer] = value instead\n",
            "\n",
            "See the caveats in the documentation: https://pandas.pydata.org/pandas-docs/stable/user_guide/indexing.html#returning-a-view-versus-a-copy\n",
            "  \"\"\"Entry point for launching an IPython kernel.\n"
          ]
        }
      ]
    },
    {
      "cell_type": "code",
      "metadata": {
        "colab": {
          "base_uri": "https://localhost:8080/",
          "height": 206
        },
        "id": "mBwcSereeBa-",
        "outputId": "519796c5-638e-41e5-9752-9b878c53fac9"
      },
      "source": [
        "df_new.head()"
      ],
      "execution_count": null,
      "outputs": [
        {
          "output_type": "execute_result",
          "data": {
            "text/html": [
              "<div>\n",
              "<style scoped>\n",
              "    .dataframe tbody tr th:only-of-type {\n",
              "        vertical-align: middle;\n",
              "    }\n",
              "\n",
              "    .dataframe tbody tr th {\n",
              "        vertical-align: top;\n",
              "    }\n",
              "\n",
              "    .dataframe thead th {\n",
              "        text-align: right;\n",
              "    }\n",
              "</style>\n",
              "<table border=\"1\" class=\"dataframe\">\n",
              "  <thead>\n",
              "    <tr style=\"text-align: right;\">\n",
              "      <th></th>\n",
              "      <th>BUSSES</th>\n",
              "      <th>Total Fare</th>\n",
              "      <th>NEW Service Date</th>\n",
              "      <th>New RecordedAt</th>\n",
              "      <th>CLASS</th>\n",
              "    </tr>\n",
              "  </thead>\n",
              "  <tbody>\n",
              "    <tr>\n",
              "      <th>0</th>\n",
              "      <td>0.0</td>\n",
              "      <td>0.586611</td>\n",
              "      <td>0.102375</td>\n",
              "      <td>0.044226</td>\n",
              "      <td>0</td>\n",
              "    </tr>\n",
              "    <tr>\n",
              "      <th>1</th>\n",
              "      <td>0.0</td>\n",
              "      <td>0.569358</td>\n",
              "      <td>0.102375</td>\n",
              "      <td>0.045045</td>\n",
              "      <td>0</td>\n",
              "    </tr>\n",
              "    <tr>\n",
              "      <th>2</th>\n",
              "      <td>0.0</td>\n",
              "      <td>0.569358</td>\n",
              "      <td>0.102375</td>\n",
              "      <td>0.047338</td>\n",
              "      <td>0</td>\n",
              "    </tr>\n",
              "    <tr>\n",
              "      <th>3</th>\n",
              "      <td>0.0</td>\n",
              "      <td>0.569358</td>\n",
              "      <td>0.102375</td>\n",
              "      <td>0.047666</td>\n",
              "      <td>0</td>\n",
              "    </tr>\n",
              "    <tr>\n",
              "      <th>4</th>\n",
              "      <td>0.0</td>\n",
              "      <td>0.547274</td>\n",
              "      <td>0.102375</td>\n",
              "      <td>0.053726</td>\n",
              "      <td>0</td>\n",
              "    </tr>\n",
              "  </tbody>\n",
              "</table>\n",
              "</div>"
            ],
            "text/plain": [
              "   BUSSES  Total Fare  NEW Service Date  New RecordedAt  CLASS\n",
              "0     0.0    0.586611          0.102375        0.044226      0\n",
              "1     0.0    0.569358          0.102375        0.045045      0\n",
              "2     0.0    0.569358          0.102375        0.047338      0\n",
              "3     0.0    0.569358          0.102375        0.047666      0\n",
              "4     0.0    0.547274          0.102375        0.053726      0"
            ]
          },
          "metadata": {},
          "execution_count": 38
        }
      ]
    },
    {
      "cell_type": "code",
      "metadata": {
        "colab": {
          "base_uri": "https://localhost:8080/",
          "height": 300
        },
        "id": "w5aC6Vs2fvjF",
        "outputId": "35b987fb-8478-4140-f7b5-9338f0891c15"
      },
      "source": [
        "df_new.describe()"
      ],
      "execution_count": null,
      "outputs": [
        {
          "output_type": "execute_result",
          "data": {
            "text/html": [
              "<div>\n",
              "<style scoped>\n",
              "    .dataframe tbody tr th:only-of-type {\n",
              "        vertical-align: middle;\n",
              "    }\n",
              "\n",
              "    .dataframe tbody tr th {\n",
              "        vertical-align: top;\n",
              "    }\n",
              "\n",
              "    .dataframe thead th {\n",
              "        text-align: right;\n",
              "    }\n",
              "</style>\n",
              "<table border=\"1\" class=\"dataframe\">\n",
              "  <thead>\n",
              "    <tr style=\"text-align: right;\">\n",
              "      <th></th>\n",
              "      <th>BUSSES</th>\n",
              "      <th>Total Fare</th>\n",
              "      <th>NEW Service Date</th>\n",
              "      <th>New RecordedAt</th>\n",
              "      <th>CLASS</th>\n",
              "    </tr>\n",
              "  </thead>\n",
              "  <tbody>\n",
              "    <tr>\n",
              "      <th>count</th>\n",
              "      <td>30649.000000</td>\n",
              "      <td>30649.000000</td>\n",
              "      <td>30649.000000</td>\n",
              "      <td>30649.000000</td>\n",
              "      <td>30649.000000</td>\n",
              "    </tr>\n",
              "    <tr>\n",
              "      <th>mean</th>\n",
              "      <td>0.416284</td>\n",
              "      <td>0.409399</td>\n",
              "      <td>0.551730</td>\n",
              "      <td>0.522147</td>\n",
              "      <td>0.524715</td>\n",
              "    </tr>\n",
              "    <tr>\n",
              "      <th>std</th>\n",
              "      <td>0.245279</td>\n",
              "      <td>0.199997</td>\n",
              "      <td>0.272224</td>\n",
              "      <td>0.282027</td>\n",
              "      <td>0.499397</td>\n",
              "    </tr>\n",
              "    <tr>\n",
              "      <th>min</th>\n",
              "      <td>0.000000</td>\n",
              "      <td>0.000000</td>\n",
              "      <td>0.102375</td>\n",
              "      <td>0.000000</td>\n",
              "      <td>0.000000</td>\n",
              "    </tr>\n",
              "    <tr>\n",
              "      <th>25%</th>\n",
              "      <td>0.215517</td>\n",
              "      <td>0.345066</td>\n",
              "      <td>0.330139</td>\n",
              "      <td>0.279197</td>\n",
              "      <td>0.000000</td>\n",
              "    </tr>\n",
              "    <tr>\n",
              "      <th>50%</th>\n",
              "      <td>0.405172</td>\n",
              "      <td>0.448585</td>\n",
              "      <td>0.563473</td>\n",
              "      <td>0.534562</td>\n",
              "      <td>1.000000</td>\n",
              "    </tr>\n",
              "    <tr>\n",
              "      <th>75%</th>\n",
              "      <td>0.551724</td>\n",
              "      <td>0.542443</td>\n",
              "      <td>0.800983</td>\n",
              "      <td>0.753399</td>\n",
              "      <td>1.000000</td>\n",
              "    </tr>\n",
              "    <tr>\n",
              "      <th>max</th>\n",
              "      <td>1.000000</td>\n",
              "      <td>1.000000</td>\n",
              "      <td>0.976331</td>\n",
              "      <td>1.000000</td>\n",
              "      <td>1.000000</td>\n",
              "    </tr>\n",
              "  </tbody>\n",
              "</table>\n",
              "</div>"
            ],
            "text/plain": [
              "             BUSSES    Total Fare  ...  New RecordedAt         CLASS\n",
              "count  30649.000000  30649.000000  ...    30649.000000  30649.000000\n",
              "mean       0.416284      0.409399  ...        0.522147      0.524715\n",
              "std        0.245279      0.199997  ...        0.282027      0.499397\n",
              "min        0.000000      0.000000  ...        0.000000      0.000000\n",
              "25%        0.215517      0.345066  ...        0.279197      0.000000\n",
              "50%        0.405172      0.448585  ...        0.534562      1.000000\n",
              "75%        0.551724      0.542443  ...        0.753399      1.000000\n",
              "max        1.000000      1.000000  ...        1.000000      1.000000\n",
              "\n",
              "[8 rows x 5 columns]"
            ]
          },
          "metadata": {},
          "execution_count": 46
        }
      ]
    },
    {
      "cell_type": "code",
      "metadata": {
        "id": "SKxMa330eDcN"
      },
      "source": [
        "# df_g=df_new.groupby(\"BUSSES\")"
      ],
      "execution_count": null,
      "outputs": []
    },
    {
      "cell_type": "code",
      "metadata": {
        "id": "sp6IaoI-eKbX"
      },
      "source": [
        "# bus_score={}\n",
        "# for bus,bus_df in df_g:\n",
        "#   bus_score[bus]=np.mean(bus_df.CLASS)\n",
        "#   if bus_score[bus]>0.5:\n",
        "#     bus_score[bus]=1\n",
        "#   else:\n",
        "#     bus_score[bus]=0"
      ],
      "execution_count": null,
      "outputs": []
    },
    {
      "cell_type": "code",
      "metadata": {
        "colab": {
          "base_uri": "https://localhost:8080/"
        },
        "id": "sozKrp-WeXhM",
        "outputId": "8e8bb3a1-5094-474e-ccd1-0731977c6e78"
      },
      "source": [
        "df_temp=df_new.groupby(\"NEW Service Date\")\n",
        "zero=0\n",
        "one=0\n",
        "for s,s_df in df_temp:\n",
        "  min_date=np.min(s_df[\"New RecordedAt\"])\n",
        "  temp_df=s_df.loc[s_df[\"New RecordedAt\"]==min_date]\n",
        "  if np.mean(temp_df.CLASS)>=0.5:\n",
        "    one=one+1;\n",
        "  else:\n",
        "    zero=zero+1\n",
        "print(zero,one)"
      ],
      "execution_count": null,
      "outputs": [
        {
          "output_type": "stream",
          "name": "stdout",
          "text": [
            "16 0\n"
          ]
        }
      ]
    },
    {
      "cell_type": "code",
      "metadata": {
        "id": "PeZof4Ksf6Eh"
      },
      "source": [
        "#zero is independent while one is follower"
      ],
      "execution_count": null,
      "outputs": []
    },
    {
      "cell_type": "code",
      "metadata": {
        "id": "MQYB5PPJhlV0"
      },
      "source": [
        "df_g=df_new.groupby(\"BUSSES\")\n",
        "bus_score={}\n",
        "for bus,bus_df in df_g:\n",
        "  bus_score[bus]=np.mean(bus_df.CLASS)\n",
        "  # if bus_score[bus]>0.5:\n",
        "  #   bus_score[bus]=1\n",
        "  # else:\n",
        "  #   bus_score[bus]=0"
      ],
      "execution_count": null,
      "outputs": []
    },
    {
      "cell_type": "code",
      "metadata": {
        "id": "pToVSW7RiiI7"
      },
      "source": [
        "# bus_score"
      ],
      "execution_count": null,
      "outputs": []
    },
    {
      "cell_type": "code",
      "metadata": {
        "id": "mP9MG_aDixCb"
      },
      "source": [
        "bus_score_follows={}\n",
        "for k in bus_score:\n",
        "  bus_score_follows[k]=1-bus_score[k]"
      ],
      "execution_count": null,
      "outputs": []
    },
    {
      "cell_type": "code",
      "metadata": {
        "colab": {
          "base_uri": "https://localhost:8080/",
          "height": 206
        },
        "id": "an-HeUjElyq6",
        "outputId": "e409add2-87f9-4d21-da0f-d79270dab0e1"
      },
      "source": [
        "df_new.head()"
      ],
      "execution_count": null,
      "outputs": [
        {
          "output_type": "execute_result",
          "data": {
            "text/html": [
              "<div>\n",
              "<style scoped>\n",
              "    .dataframe tbody tr th:only-of-type {\n",
              "        vertical-align: middle;\n",
              "    }\n",
              "\n",
              "    .dataframe tbody tr th {\n",
              "        vertical-align: top;\n",
              "    }\n",
              "\n",
              "    .dataframe thead th {\n",
              "        text-align: right;\n",
              "    }\n",
              "</style>\n",
              "<table border=\"1\" class=\"dataframe\">\n",
              "  <thead>\n",
              "    <tr style=\"text-align: right;\">\n",
              "      <th></th>\n",
              "      <th>BUSSES</th>\n",
              "      <th>Total Fare</th>\n",
              "      <th>NEW Service Date</th>\n",
              "      <th>New RecordedAt</th>\n",
              "      <th>CLASS</th>\n",
              "    </tr>\n",
              "  </thead>\n",
              "  <tbody>\n",
              "    <tr>\n",
              "      <th>0</th>\n",
              "      <td>0.0</td>\n",
              "      <td>0.586611</td>\n",
              "      <td>0.102375</td>\n",
              "      <td>0.044226</td>\n",
              "      <td>0</td>\n",
              "    </tr>\n",
              "    <tr>\n",
              "      <th>1</th>\n",
              "      <td>0.0</td>\n",
              "      <td>0.569358</td>\n",
              "      <td>0.102375</td>\n",
              "      <td>0.045045</td>\n",
              "      <td>0</td>\n",
              "    </tr>\n",
              "    <tr>\n",
              "      <th>2</th>\n",
              "      <td>0.0</td>\n",
              "      <td>0.569358</td>\n",
              "      <td>0.102375</td>\n",
              "      <td>0.047338</td>\n",
              "      <td>0</td>\n",
              "    </tr>\n",
              "    <tr>\n",
              "      <th>3</th>\n",
              "      <td>0.0</td>\n",
              "      <td>0.569358</td>\n",
              "      <td>0.102375</td>\n",
              "      <td>0.047666</td>\n",
              "      <td>0</td>\n",
              "    </tr>\n",
              "    <tr>\n",
              "      <th>4</th>\n",
              "      <td>0.0</td>\n",
              "      <td>0.547274</td>\n",
              "      <td>0.102375</td>\n",
              "      <td>0.053726</td>\n",
              "      <td>0</td>\n",
              "    </tr>\n",
              "  </tbody>\n",
              "</table>\n",
              "</div>"
            ],
            "text/plain": [
              "   BUSSES  Total Fare  NEW Service Date  New RecordedAt  CLASS\n",
              "0     0.0    0.586611          0.102375        0.044226      0\n",
              "1     0.0    0.569358          0.102375        0.045045      0\n",
              "2     0.0    0.569358          0.102375        0.047338      0\n",
              "3     0.0    0.569358          0.102375        0.047666      0\n",
              "4     0.0    0.547274          0.102375        0.053726      0"
            ]
          },
          "metadata": {},
          "execution_count": 69
        }
      ]
    },
    {
      "cell_type": "code",
      "metadata": {
        "id": "CPdqu-3Wl0vQ"
      },
      "source": [
        "def trans(s):\n",
        "  if bus_score[s]>=0.5:\n",
        "    return 1\n",
        "  else:\n",
        "    return 0"
      ],
      "execution_count": null,
      "outputs": []
    },
    {
      "cell_type": "code",
      "metadata": {
        "colab": {
          "base_uri": "https://localhost:8080/"
        },
        "id": "fXg1bH84jKaR",
        "outputId": "bdf8b374-ffd2-4c81-87bb-267df8680e1d"
      },
      "source": [
        "df_new[\"CLASS\"]=df_new[\"BUSSES\"].map(trans)"
      ],
      "execution_count": null,
      "outputs": [
        {
          "output_type": "stream",
          "name": "stderr",
          "text": [
            "/usr/local/lib/python3.7/dist-packages/ipykernel_launcher.py:1: SettingWithCopyWarning: \n",
            "A value is trying to be set on a copy of a slice from a DataFrame.\n",
            "Try using .loc[row_indexer,col_indexer] = value instead\n",
            "\n",
            "See the caveats in the documentation: https://pandas.pydata.org/pandas-docs/stable/user_guide/indexing.html#returning-a-view-versus-a-copy\n",
            "  \"\"\"Entry point for launching an IPython kernel.\n"
          ]
        }
      ]
    },
    {
      "cell_type": "code",
      "metadata": {
        "colab": {
          "base_uri": "https://localhost:8080/",
          "height": 206
        },
        "id": "BEb6_PeYl_14",
        "outputId": "c35159b0-200d-47ce-be1a-b02730360b5e"
      },
      "source": [
        "df_new.head()"
      ],
      "execution_count": null,
      "outputs": [
        {
          "output_type": "execute_result",
          "data": {
            "text/html": [
              "<div>\n",
              "<style scoped>\n",
              "    .dataframe tbody tr th:only-of-type {\n",
              "        vertical-align: middle;\n",
              "    }\n",
              "\n",
              "    .dataframe tbody tr th {\n",
              "        vertical-align: top;\n",
              "    }\n",
              "\n",
              "    .dataframe thead th {\n",
              "        text-align: right;\n",
              "    }\n",
              "</style>\n",
              "<table border=\"1\" class=\"dataframe\">\n",
              "  <thead>\n",
              "    <tr style=\"text-align: right;\">\n",
              "      <th></th>\n",
              "      <th>BUSSES</th>\n",
              "      <th>Total Fare</th>\n",
              "      <th>NEW Service Date</th>\n",
              "      <th>New RecordedAt</th>\n",
              "      <th>CLASS</th>\n",
              "    </tr>\n",
              "  </thead>\n",
              "  <tbody>\n",
              "    <tr>\n",
              "      <th>0</th>\n",
              "      <td>0.0</td>\n",
              "      <td>0.586611</td>\n",
              "      <td>0.102375</td>\n",
              "      <td>0.044226</td>\n",
              "      <td>0</td>\n",
              "    </tr>\n",
              "    <tr>\n",
              "      <th>1</th>\n",
              "      <td>0.0</td>\n",
              "      <td>0.569358</td>\n",
              "      <td>0.102375</td>\n",
              "      <td>0.045045</td>\n",
              "      <td>0</td>\n",
              "    </tr>\n",
              "    <tr>\n",
              "      <th>2</th>\n",
              "      <td>0.0</td>\n",
              "      <td>0.569358</td>\n",
              "      <td>0.102375</td>\n",
              "      <td>0.047338</td>\n",
              "      <td>0</td>\n",
              "    </tr>\n",
              "    <tr>\n",
              "      <th>3</th>\n",
              "      <td>0.0</td>\n",
              "      <td>0.569358</td>\n",
              "      <td>0.102375</td>\n",
              "      <td>0.047666</td>\n",
              "      <td>0</td>\n",
              "    </tr>\n",
              "    <tr>\n",
              "      <th>4</th>\n",
              "      <td>0.0</td>\n",
              "      <td>0.547274</td>\n",
              "      <td>0.102375</td>\n",
              "      <td>0.053726</td>\n",
              "      <td>0</td>\n",
              "    </tr>\n",
              "  </tbody>\n",
              "</table>\n",
              "</div>"
            ],
            "text/plain": [
              "   BUSSES  Total Fare  NEW Service Date  New RecordedAt  CLASS\n",
              "0     0.0    0.586611          0.102375        0.044226      0\n",
              "1     0.0    0.569358          0.102375        0.045045      0\n",
              "2     0.0    0.569358          0.102375        0.047338      0\n",
              "3     0.0    0.569358          0.102375        0.047666      0\n",
              "4     0.0    0.547274          0.102375        0.053726      0"
            ]
          },
          "metadata": {},
          "execution_count": 72
        }
      ]
    },
    {
      "cell_type": "code",
      "metadata": {
        "id": "ti2o3TVBmCTI"
      },
      "source": [
        "bus_follows={}\n",
        "bus_followed_by={}\n",
        "for "
      ],
      "execution_count": null,
      "outputs": []
    }
  ]
}