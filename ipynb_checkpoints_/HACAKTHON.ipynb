{
  "nbformat": 4,
  "nbformat_minor": 0,
  "metadata": {
    "colab": {
      "name": "HACAKTHON.ipynb",
      "provenance": [],
      "collapsed_sections": []
    },
    "kernelspec": {
      "name": "python3",
      "display_name": "Python 3"
    },
    "language_info": {
      "name": "python"
    }
  },
  "cells": [
    {
      "cell_type": "code",
      "metadata": {
        "colab": {
          "base_uri": "https://localhost:8080/"
        },
        "id": "88FvsLuH-F0N",
        "outputId": "1736b767-6d07-416f-d2b8-9c1a5c5d5d01"
      },
      "source": [
        "from google.colab import drive\n",
        "drive.mount('/content/drive')"
      ],
      "execution_count": null,
      "outputs": [
        {
          "output_type": "stream",
          "name": "stdout",
          "text": [
            "Mounted at /content/drive\n"
          ]
        }
      ]
    },
    {
      "cell_type": "code",
      "metadata": {
        "id": "lQTU_xj5-GmC"
      },
      "source": [
        "import pandas as pd\n",
        "import numpy as np"
      ],
      "execution_count": null,
      "outputs": []
    },
    {
      "cell_type": "code",
      "metadata": {
        "id": "vGp8ySOk-IUj"
      },
      "source": [
        "df=pd.read_csv(\"/content/drive/MyDrive/PricingData.csv\")"
      ],
      "execution_count": null,
      "outputs": []
    },
    {
      "cell_type": "code",
      "metadata": {
        "colab": {
          "base_uri": "https://localhost:8080/",
          "height": 206
        },
        "id": "QynID2kK-JwY",
        "outputId": "d3bc75ea-4e39-474a-a06a-4e41195a9ba8"
      },
      "source": [
        "df.head()"
      ],
      "execution_count": null,
      "outputs": [
        {
          "output_type": "execute_result",
          "data": {
            "text/html": [
              "<div>\n",
              "<style scoped>\n",
              "    .dataframe tbody tr th:only-of-type {\n",
              "        vertical-align: middle;\n",
              "    }\n",
              "\n",
              "    .dataframe tbody tr th {\n",
              "        vertical-align: top;\n",
              "    }\n",
              "\n",
              "    .dataframe thead th {\n",
              "        text-align: right;\n",
              "    }\n",
              "</style>\n",
              "<table border=\"1\" class=\"dataframe\">\n",
              "  <thead>\n",
              "    <tr style=\"text-align: right;\">\n",
              "      <th></th>\n",
              "      <th>Seat Fare Type 1</th>\n",
              "      <th>Seat Fare Type 2</th>\n",
              "      <th>Bus</th>\n",
              "      <th>Service Date</th>\n",
              "      <th>RecordedAt</th>\n",
              "    </tr>\n",
              "  </thead>\n",
              "  <tbody>\n",
              "    <tr>\n",
              "      <th>0</th>\n",
              "      <td>900.00,800.00</td>\n",
              "      <td>NaN</td>\n",
              "      <td>d6fa79179fda2a77455794637f225962</td>\n",
              "      <td>15-07-2020 00:00</td>\n",
              "      <td>11-07-2020 16:28</td>\n",
              "    </tr>\n",
              "    <tr>\n",
              "      <th>1</th>\n",
              "      <td>910.00,833.00,795.00,762.00</td>\n",
              "      <td>NaN</td>\n",
              "      <td>d6fa79179fda2a77455794637f225962</td>\n",
              "      <td>15-07-2020 00:00</td>\n",
              "      <td>11-07-2020 19:17</td>\n",
              "    </tr>\n",
              "    <tr>\n",
              "      <th>2</th>\n",
              "      <td>910.00,833.00,795.00,762.00</td>\n",
              "      <td>NaN</td>\n",
              "      <td>d6fa79179fda2a77455794637f225962</td>\n",
              "      <td>15-07-2020 00:00</td>\n",
              "      <td>12-07-2020 09:02</td>\n",
              "    </tr>\n",
              "    <tr>\n",
              "      <th>3</th>\n",
              "      <td>910.00,833.00,795.00,762.00</td>\n",
              "      <td>NaN</td>\n",
              "      <td>d6fa79179fda2a77455794637f225962</td>\n",
              "      <td>15-07-2020 00:00</td>\n",
              "      <td>12-07-2020 10:05</td>\n",
              "    </tr>\n",
              "    <tr>\n",
              "      <th>4</th>\n",
              "      <td>876.00,800.00,767.00,729.00</td>\n",
              "      <td>NaN</td>\n",
              "      <td>d6fa79179fda2a77455794637f225962</td>\n",
              "      <td>15-07-2020 00:00</td>\n",
              "      <td>13-07-2020 01:53</td>\n",
              "    </tr>\n",
              "  </tbody>\n",
              "</table>\n",
              "</div>"
            ],
            "text/plain": [
              "              Seat Fare Type 1  ...        RecordedAt\n",
              "0                900.00,800.00  ...  11-07-2020 16:28\n",
              "1  910.00,833.00,795.00,762.00  ...  11-07-2020 19:17\n",
              "2  910.00,833.00,795.00,762.00  ...  12-07-2020 09:02\n",
              "3  910.00,833.00,795.00,762.00  ...  12-07-2020 10:05\n",
              "4  876.00,800.00,767.00,729.00  ...  13-07-2020 01:53\n",
              "\n",
              "[5 rows x 5 columns]"
            ]
          },
          "metadata": {},
          "execution_count": 4
        }
      ]
    },
    {
      "cell_type": "code",
      "metadata": {
        "id": "ugmNSPpr-VOt"
      },
      "source": [
        "df[\"Seat Fare Type 1\"]=df[\"Seat Fare Type 1\"].fillna(\"0\")\n",
        "df[\"Seat Fare Type 2\"]=df[\"Seat Fare Type 2\"].fillna(\"0\")"
      ],
      "execution_count": null,
      "outputs": []
    },
    {
      "cell_type": "code",
      "metadata": {
        "colab": {
          "base_uri": "https://localhost:8080/"
        },
        "id": "S8TuydV__HwN",
        "outputId": "1b6e33dd-4151-44a5-f007-8cd0dcdd8b47"
      },
      "source": [
        "df[\"Seat Fare Type 1\"].isnull().sum()"
      ],
      "execution_count": null,
      "outputs": [
        {
          "output_type": "execute_result",
          "data": {
            "text/plain": [
              "0"
            ]
          },
          "metadata": {},
          "execution_count": 6
        }
      ]
    },
    {
      "cell_type": "code",
      "metadata": {
        "colab": {
          "base_uri": "https://localhost:8080/"
        },
        "id": "KzSQzG0-_Q9Z",
        "outputId": "4df8cf5b-80d0-4911-a119-01f95baa4131"
      },
      "source": [
        "df[\"Seat Fare Type 2\"].isnull().sum()"
      ],
      "execution_count": null,
      "outputs": [
        {
          "output_type": "execute_result",
          "data": {
            "text/plain": [
              "0"
            ]
          },
          "metadata": {},
          "execution_count": 7
        }
      ]
    },
    {
      "cell_type": "code",
      "metadata": {
        "id": "Ghekuvuj_USb"
      },
      "source": [
        "d={}\n",
        "l=[]\n",
        "for i in df.Bus.unique():\n",
        "  l.append(i)\n",
        "for i,j in enumerate(l):\n",
        "  d[j]=i;"
      ],
      "execution_count": null,
      "outputs": []
    },
    {
      "cell_type": "code",
      "metadata": {
        "id": "x12iyMTE_eIe"
      },
      "source": [
        "def f(s):\n",
        "  return d[s]"
      ],
      "execution_count": null,
      "outputs": []
    },
    {
      "cell_type": "code",
      "metadata": {
        "id": "aRN8p6Gd_fsS"
      },
      "source": [
        "df[\"Bus\"]=df[\"Bus\"].map(f)"
      ],
      "execution_count": null,
      "outputs": []
    },
    {
      "cell_type": "code",
      "metadata": {
        "colab": {
          "base_uri": "https://localhost:8080/",
          "height": 206
        },
        "id": "oTAIknUI_kcs",
        "outputId": "64902607-d87e-446a-ab58-266bad3d42dc"
      },
      "source": [
        "df.head()"
      ],
      "execution_count": null,
      "outputs": [
        {
          "output_type": "execute_result",
          "data": {
            "text/html": [
              "<div>\n",
              "<style scoped>\n",
              "    .dataframe tbody tr th:only-of-type {\n",
              "        vertical-align: middle;\n",
              "    }\n",
              "\n",
              "    .dataframe tbody tr th {\n",
              "        vertical-align: top;\n",
              "    }\n",
              "\n",
              "    .dataframe thead th {\n",
              "        text-align: right;\n",
              "    }\n",
              "</style>\n",
              "<table border=\"1\" class=\"dataframe\">\n",
              "  <thead>\n",
              "    <tr style=\"text-align: right;\">\n",
              "      <th></th>\n",
              "      <th>Seat Fare Type 1</th>\n",
              "      <th>Seat Fare Type 2</th>\n",
              "      <th>Bus</th>\n",
              "      <th>Service Date</th>\n",
              "      <th>RecordedAt</th>\n",
              "    </tr>\n",
              "  </thead>\n",
              "  <tbody>\n",
              "    <tr>\n",
              "      <th>0</th>\n",
              "      <td>900.00,800.00</td>\n",
              "      <td>0</td>\n",
              "      <td>0</td>\n",
              "      <td>15-07-2020 00:00</td>\n",
              "      <td>11-07-2020 16:28</td>\n",
              "    </tr>\n",
              "    <tr>\n",
              "      <th>1</th>\n",
              "      <td>910.00,833.00,795.00,762.00</td>\n",
              "      <td>0</td>\n",
              "      <td>0</td>\n",
              "      <td>15-07-2020 00:00</td>\n",
              "      <td>11-07-2020 19:17</td>\n",
              "    </tr>\n",
              "    <tr>\n",
              "      <th>2</th>\n",
              "      <td>910.00,833.00,795.00,762.00</td>\n",
              "      <td>0</td>\n",
              "      <td>0</td>\n",
              "      <td>15-07-2020 00:00</td>\n",
              "      <td>12-07-2020 09:02</td>\n",
              "    </tr>\n",
              "    <tr>\n",
              "      <th>3</th>\n",
              "      <td>910.00,833.00,795.00,762.00</td>\n",
              "      <td>0</td>\n",
              "      <td>0</td>\n",
              "      <td>15-07-2020 00:00</td>\n",
              "      <td>12-07-2020 10:05</td>\n",
              "    </tr>\n",
              "    <tr>\n",
              "      <th>4</th>\n",
              "      <td>876.00,800.00,767.00,729.00</td>\n",
              "      <td>0</td>\n",
              "      <td>0</td>\n",
              "      <td>15-07-2020 00:00</td>\n",
              "      <td>13-07-2020 01:53</td>\n",
              "    </tr>\n",
              "  </tbody>\n",
              "</table>\n",
              "</div>"
            ],
            "text/plain": [
              "              Seat Fare Type 1  ...        RecordedAt\n",
              "0                900.00,800.00  ...  11-07-2020 16:28\n",
              "1  910.00,833.00,795.00,762.00  ...  11-07-2020 19:17\n",
              "2  910.00,833.00,795.00,762.00  ...  12-07-2020 09:02\n",
              "3  910.00,833.00,795.00,762.00  ...  12-07-2020 10:05\n",
              "4  876.00,800.00,767.00,729.00  ...  13-07-2020 01:53\n",
              "\n",
              "[5 rows x 5 columns]"
            ]
          },
          "metadata": {},
          "execution_count": 11
        }
      ]
    },
    {
      "cell_type": "code",
      "metadata": {
        "id": "_5whctsl_l3K"
      },
      "source": [
        "def f1(s):\n",
        "  l=s.split(\",\")\n",
        "  ans=0\n",
        "  for i in l:\n",
        "    # print(float(i))\n",
        "    ans=ans+float(i)\n",
        "  # print(ans)\n",
        "  return ans;"
      ],
      "execution_count": null,
      "outputs": []
    },
    {
      "cell_type": "code",
      "metadata": {
        "id": "mCm8g0xz_z-b"
      },
      "source": [
        "df[\"NEW Seat Fare Type 1\"]=df[\"Seat Fare Type 1\"].map(f1)"
      ],
      "execution_count": null,
      "outputs": []
    },
    {
      "cell_type": "code",
      "metadata": {
        "id": "DKPj329B_5-r"
      },
      "source": [
        "df[\"NEW Seat Fare Type 2\"]=df[\"Seat Fare Type 2\"].map(f1)"
      ],
      "execution_count": null,
      "outputs": []
    },
    {
      "cell_type": "code",
      "metadata": {
        "id": "H0CX7ke5A03_"
      },
      "source": [
        "df[\"NEW Seat Fare Type\"]=df[\"NEW Seat Fare Type 2\"]+df[\"NEW Seat Fare Type 1\"]"
      ],
      "execution_count": null,
      "outputs": []
    },
    {
      "cell_type": "code",
      "metadata": {
        "colab": {
          "base_uri": "https://localhost:8080/",
          "height": 206
        },
        "id": "HQkrMMdiAYPX",
        "outputId": "8fca623b-1270-40d8-c201-175337712521"
      },
      "source": [
        "df.head()"
      ],
      "execution_count": null,
      "outputs": [
        {
          "output_type": "execute_result",
          "data": {
            "text/html": [
              "<div>\n",
              "<style scoped>\n",
              "    .dataframe tbody tr th:only-of-type {\n",
              "        vertical-align: middle;\n",
              "    }\n",
              "\n",
              "    .dataframe tbody tr th {\n",
              "        vertical-align: top;\n",
              "    }\n",
              "\n",
              "    .dataframe thead th {\n",
              "        text-align: right;\n",
              "    }\n",
              "</style>\n",
              "<table border=\"1\" class=\"dataframe\">\n",
              "  <thead>\n",
              "    <tr style=\"text-align: right;\">\n",
              "      <th></th>\n",
              "      <th>Seat Fare Type 1</th>\n",
              "      <th>Seat Fare Type 2</th>\n",
              "      <th>Bus</th>\n",
              "      <th>Service Date</th>\n",
              "      <th>RecordedAt</th>\n",
              "      <th>NEW Seat Fare Type 1</th>\n",
              "      <th>NEW Seat Fare Type 2</th>\n",
              "      <th>NEW Seat Fare Type</th>\n",
              "    </tr>\n",
              "  </thead>\n",
              "  <tbody>\n",
              "    <tr>\n",
              "      <th>0</th>\n",
              "      <td>900.00,800.00</td>\n",
              "      <td>0</td>\n",
              "      <td>0</td>\n",
              "      <td>15-07-2020 00:00</td>\n",
              "      <td>11-07-2020 16:28</td>\n",
              "      <td>1700.0</td>\n",
              "      <td>0.0</td>\n",
              "      <td>1700.0</td>\n",
              "    </tr>\n",
              "    <tr>\n",
              "      <th>1</th>\n",
              "      <td>910.00,833.00,795.00,762.00</td>\n",
              "      <td>0</td>\n",
              "      <td>0</td>\n",
              "      <td>15-07-2020 00:00</td>\n",
              "      <td>11-07-2020 19:17</td>\n",
              "      <td>3300.0</td>\n",
              "      <td>0.0</td>\n",
              "      <td>3300.0</td>\n",
              "    </tr>\n",
              "    <tr>\n",
              "      <th>2</th>\n",
              "      <td>910.00,833.00,795.00,762.00</td>\n",
              "      <td>0</td>\n",
              "      <td>0</td>\n",
              "      <td>15-07-2020 00:00</td>\n",
              "      <td>12-07-2020 09:02</td>\n",
              "      <td>3300.0</td>\n",
              "      <td>0.0</td>\n",
              "      <td>3300.0</td>\n",
              "    </tr>\n",
              "    <tr>\n",
              "      <th>3</th>\n",
              "      <td>910.00,833.00,795.00,762.00</td>\n",
              "      <td>0</td>\n",
              "      <td>0</td>\n",
              "      <td>15-07-2020 00:00</td>\n",
              "      <td>12-07-2020 10:05</td>\n",
              "      <td>3300.0</td>\n",
              "      <td>0.0</td>\n",
              "      <td>3300.0</td>\n",
              "    </tr>\n",
              "    <tr>\n",
              "      <th>4</th>\n",
              "      <td>876.00,800.00,767.00,729.00</td>\n",
              "      <td>0</td>\n",
              "      <td>0</td>\n",
              "      <td>15-07-2020 00:00</td>\n",
              "      <td>13-07-2020 01:53</td>\n",
              "      <td>3172.0</td>\n",
              "      <td>0.0</td>\n",
              "      <td>3172.0</td>\n",
              "    </tr>\n",
              "  </tbody>\n",
              "</table>\n",
              "</div>"
            ],
            "text/plain": [
              "              Seat Fare Type 1  ... NEW Seat Fare Type\n",
              "0                900.00,800.00  ...             1700.0\n",
              "1  910.00,833.00,795.00,762.00  ...             3300.0\n",
              "2  910.00,833.00,795.00,762.00  ...             3300.0\n",
              "3  910.00,833.00,795.00,762.00  ...             3300.0\n",
              "4  876.00,800.00,767.00,729.00  ...             3172.0\n",
              "\n",
              "[5 rows x 8 columns]"
            ]
          },
          "metadata": {},
          "execution_count": 27
        }
      ]
    },
    {
      "cell_type": "code",
      "metadata": {
        "id": "6xy14NnVHF5G"
      },
      "source": [
        "d={}\n",
        "for i in df.Bus.unique():\n",
        "  d[i]=[]"
      ],
      "execution_count": null,
      "outputs": []
    },
    {
      "cell_type": "code",
      "metadata": {
        "id": "7TgwIbi_G8nX"
      },
      "source": [
        "for i in df[\"Service Date\"].unique():\n",
        "  df_temp=df[df[\"Service Date\"]==i]\n",
        "  df_temp2=df_temp.groupby(\"Bus\")\n",
        "  for bus,df_t in df_temp2:\n",
        "    d[bus].append((np.mean(df_t[\"NEW Seat Fare Type\"]),i))"
      ],
      "execution_count": null,
      "outputs": []
    },
    {
      "cell_type": "code",
      "metadata": {
        "id": "OdUXi8UMG8kV"
      },
      "source": [
        "# d"
      ],
      "execution_count": null,
      "outputs": []
    },
    {
      "cell_type": "code",
      "metadata": {
        "id": "pfwsqIiBI1oc"
      },
      "source": [
        "d1={}\n",
        "for i in df['Service Date'].unique():\n",
        "  d1[i]=[0 for _ in range(len(df.Bus.unique()))]"
      ],
      "execution_count": null,
      "outputs": []
    },
    {
      "cell_type": "code",
      "metadata": {
        "id": "Hf3aFlGTI1l1"
      },
      "source": [
        "j=0\n",
        "for i in df[\"Service Date\"].unique():\n",
        "  df_temp=df[df[\"Service Date\"]==i]\n",
        "  df_temp2=df_temp.groupby(\"Bus\")\n",
        "  for bus,df_t in df_temp2:\n",
        "    d1[i][bus]=np.mean(df_t[\"NEW Seat Fare Type\"])#,i))\n",
        "  \n",
        "  j=j+1"
      ],
      "execution_count": null,
      "outputs": []
    },
    {
      "cell_type": "code",
      "metadata": {
        "id": "hXQMLkHGI1ja"
      },
      "source": [
        "d2=pd.DataFrame(d1)"
      ],
      "execution_count": null,
      "outputs": []
    },
    {
      "cell_type": "code",
      "metadata": {
        "colab": {
          "base_uri": "https://localhost:8080/",
          "height": 241
        },
        "id": "pIK8NoQTI1gy",
        "outputId": "e38fbc87-417b-41a5-cd78-63c70141dc7b"
      },
      "source": [
        "d2.head()"
      ],
      "execution_count": null,
      "outputs": [
        {
          "output_type": "execute_result",
          "data": {
            "text/html": [
              "<div>\n",
              "<style scoped>\n",
              "    .dataframe tbody tr th:only-of-type {\n",
              "        vertical-align: middle;\n",
              "    }\n",
              "\n",
              "    .dataframe tbody tr th {\n",
              "        vertical-align: top;\n",
              "    }\n",
              "\n",
              "    .dataframe thead th {\n",
              "        text-align: right;\n",
              "    }\n",
              "</style>\n",
              "<table border=\"1\" class=\"dataframe\">\n",
              "  <thead>\n",
              "    <tr style=\"text-align: right;\">\n",
              "      <th></th>\n",
              "      <th>15-07-2020 00:00</th>\n",
              "      <th>16-07-2020 00:00</th>\n",
              "      <th>17-07-2020 00:00</th>\n",
              "      <th>18-07-2020 00:00</th>\n",
              "      <th>19-07-2020 00:00</th>\n",
              "      <th>20-07-2020 00:00</th>\n",
              "      <th>21-07-2020 00:00</th>\n",
              "      <th>22-07-2020 00:00</th>\n",
              "      <th>23-07-2020 00:00</th>\n",
              "      <th>24-07-2020 00:00</th>\n",
              "      <th>25-07-2020 00:00</th>\n",
              "      <th>26-07-2020 00:00</th>\n",
              "      <th>27-07-2020 00:00</th>\n",
              "      <th>28-07-2020 00:00</th>\n",
              "      <th>29-07-2020 00:00</th>\n",
              "      <th>30-07-2020 00:00</th>\n",
              "    </tr>\n",
              "  </thead>\n",
              "  <tbody>\n",
              "    <tr>\n",
              "      <th>0</th>\n",
              "      <td>1796.125</td>\n",
              "      <td>764.588235</td>\n",
              "      <td>0.0</td>\n",
              "      <td>2682.196078</td>\n",
              "      <td>1720.254902</td>\n",
              "      <td>1756.980392</td>\n",
              "      <td>0.0</td>\n",
              "      <td>0.0</td>\n",
              "      <td>1959.882353</td>\n",
              "      <td>1914.647059</td>\n",
              "      <td>1686.666667</td>\n",
              "      <td>2116.235294</td>\n",
              "      <td>1527.882353</td>\n",
              "      <td>0.0</td>\n",
              "      <td>2142.0</td>\n",
              "      <td>1496.613636</td>\n",
              "    </tr>\n",
              "    <tr>\n",
              "      <th>1</th>\n",
              "      <td>0.000</td>\n",
              "      <td>0.000000</td>\n",
              "      <td>0.0</td>\n",
              "      <td>0.000000</td>\n",
              "      <td>0.000000</td>\n",
              "      <td>0.000000</td>\n",
              "      <td>0.0</td>\n",
              "      <td>0.0</td>\n",
              "      <td>0.000000</td>\n",
              "      <td>0.000000</td>\n",
              "      <td>0.000000</td>\n",
              "      <td>0.000000</td>\n",
              "      <td>0.000000</td>\n",
              "      <td>0.0</td>\n",
              "      <td>0.0</td>\n",
              "      <td>0.000000</td>\n",
              "    </tr>\n",
              "    <tr>\n",
              "      <th>2</th>\n",
              "      <td>0.000</td>\n",
              "      <td>0.000000</td>\n",
              "      <td>0.0</td>\n",
              "      <td>0.000000</td>\n",
              "      <td>0.000000</td>\n",
              "      <td>0.000000</td>\n",
              "      <td>0.0</td>\n",
              "      <td>0.0</td>\n",
              "      <td>0.000000</td>\n",
              "      <td>0.000000</td>\n",
              "      <td>0.000000</td>\n",
              "      <td>0.000000</td>\n",
              "      <td>0.000000</td>\n",
              "      <td>0.0</td>\n",
              "      <td>0.0</td>\n",
              "      <td>0.000000</td>\n",
              "    </tr>\n",
              "    <tr>\n",
              "      <th>3</th>\n",
              "      <td>0.000</td>\n",
              "      <td>0.000000</td>\n",
              "      <td>0.0</td>\n",
              "      <td>0.000000</td>\n",
              "      <td>0.000000</td>\n",
              "      <td>0.000000</td>\n",
              "      <td>0.0</td>\n",
              "      <td>0.0</td>\n",
              "      <td>0.000000</td>\n",
              "      <td>0.000000</td>\n",
              "      <td>0.000000</td>\n",
              "      <td>0.000000</td>\n",
              "      <td>0.000000</td>\n",
              "      <td>0.0</td>\n",
              "      <td>0.0</td>\n",
              "      <td>0.000000</td>\n",
              "    </tr>\n",
              "    <tr>\n",
              "      <th>4</th>\n",
              "      <td>0.000</td>\n",
              "      <td>0.000000</td>\n",
              "      <td>0.0</td>\n",
              "      <td>0.000000</td>\n",
              "      <td>0.000000</td>\n",
              "      <td>0.000000</td>\n",
              "      <td>0.0</td>\n",
              "      <td>0.0</td>\n",
              "      <td>0.000000</td>\n",
              "      <td>0.000000</td>\n",
              "      <td>0.000000</td>\n",
              "      <td>0.000000</td>\n",
              "      <td>0.000000</td>\n",
              "      <td>0.0</td>\n",
              "      <td>0.0</td>\n",
              "      <td>0.000000</td>\n",
              "    </tr>\n",
              "  </tbody>\n",
              "</table>\n",
              "</div>"
            ],
            "text/plain": [
              "   15-07-2020 00:00  16-07-2020 00:00  ...  29-07-2020 00:00  30-07-2020 00:00\n",
              "0          1796.125        764.588235  ...            2142.0       1496.613636\n",
              "1             0.000          0.000000  ...               0.0          0.000000\n",
              "2             0.000          0.000000  ...               0.0          0.000000\n",
              "3             0.000          0.000000  ...               0.0          0.000000\n",
              "4             0.000          0.000000  ...               0.0          0.000000\n",
              "\n",
              "[5 rows x 16 columns]"
            ]
          },
          "metadata": {},
          "execution_count": 58
        }
      ]
    },
    {
      "cell_type": "code",
      "metadata": {
        "colab": {
          "base_uri": "https://localhost:8080/",
          "height": 476
        },
        "id": "gTtQsgh4Kkff",
        "outputId": "36c6a856-1c3a-4009-d90a-a3f7d2b7d2c1"
      },
      "source": [
        "d2.head(120)"
      ],
      "execution_count": null,
      "outputs": [
        {
          "output_type": "execute_result",
          "data": {
            "text/html": [
              "<div>\n",
              "<style scoped>\n",
              "    .dataframe tbody tr th:only-of-type {\n",
              "        vertical-align: middle;\n",
              "    }\n",
              "\n",
              "    .dataframe tbody tr th {\n",
              "        vertical-align: top;\n",
              "    }\n",
              "\n",
              "    .dataframe thead th {\n",
              "        text-align: right;\n",
              "    }\n",
              "</style>\n",
              "<table border=\"1\" class=\"dataframe\">\n",
              "  <thead>\n",
              "    <tr style=\"text-align: right;\">\n",
              "      <th></th>\n",
              "      <th>15-07-2020 00:00</th>\n",
              "      <th>16-07-2020 00:00</th>\n",
              "      <th>17-07-2020 00:00</th>\n",
              "      <th>18-07-2020 00:00</th>\n",
              "      <th>19-07-2020 00:00</th>\n",
              "      <th>20-07-2020 00:00</th>\n",
              "      <th>21-07-2020 00:00</th>\n",
              "      <th>22-07-2020 00:00</th>\n",
              "      <th>23-07-2020 00:00</th>\n",
              "      <th>24-07-2020 00:00</th>\n",
              "      <th>25-07-2020 00:00</th>\n",
              "      <th>26-07-2020 00:00</th>\n",
              "      <th>27-07-2020 00:00</th>\n",
              "      <th>28-07-2020 00:00</th>\n",
              "      <th>29-07-2020 00:00</th>\n",
              "      <th>30-07-2020 00:00</th>\n",
              "    </tr>\n",
              "  </thead>\n",
              "  <tbody>\n",
              "    <tr>\n",
              "      <th>0</th>\n",
              "      <td>1796.125</td>\n",
              "      <td>764.588235</td>\n",
              "      <td>0.0</td>\n",
              "      <td>2682.196078</td>\n",
              "      <td>1720.254902</td>\n",
              "      <td>1756.980392</td>\n",
              "      <td>0.0</td>\n",
              "      <td>0.0</td>\n",
              "      <td>1959.882353</td>\n",
              "      <td>1914.647059</td>\n",
              "      <td>1686.666667</td>\n",
              "      <td>2116.235294</td>\n",
              "      <td>1527.882353</td>\n",
              "      <td>0.0</td>\n",
              "      <td>2142.000000</td>\n",
              "      <td>1496.613636</td>\n",
              "    </tr>\n",
              "    <tr>\n",
              "      <th>1</th>\n",
              "      <td>0.000</td>\n",
              "      <td>0.000000</td>\n",
              "      <td>0.0</td>\n",
              "      <td>0.000000</td>\n",
              "      <td>0.000000</td>\n",
              "      <td>0.000000</td>\n",
              "      <td>0.0</td>\n",
              "      <td>0.0</td>\n",
              "      <td>0.000000</td>\n",
              "      <td>0.000000</td>\n",
              "      <td>0.000000</td>\n",
              "      <td>0.000000</td>\n",
              "      <td>0.000000</td>\n",
              "      <td>0.0</td>\n",
              "      <td>0.000000</td>\n",
              "      <td>0.000000</td>\n",
              "    </tr>\n",
              "    <tr>\n",
              "      <th>2</th>\n",
              "      <td>0.000</td>\n",
              "      <td>0.000000</td>\n",
              "      <td>0.0</td>\n",
              "      <td>0.000000</td>\n",
              "      <td>0.000000</td>\n",
              "      <td>0.000000</td>\n",
              "      <td>0.0</td>\n",
              "      <td>0.0</td>\n",
              "      <td>0.000000</td>\n",
              "      <td>0.000000</td>\n",
              "      <td>0.000000</td>\n",
              "      <td>0.000000</td>\n",
              "      <td>0.000000</td>\n",
              "      <td>0.0</td>\n",
              "      <td>0.000000</td>\n",
              "      <td>0.000000</td>\n",
              "    </tr>\n",
              "    <tr>\n",
              "      <th>3</th>\n",
              "      <td>0.000</td>\n",
              "      <td>0.000000</td>\n",
              "      <td>0.0</td>\n",
              "      <td>0.000000</td>\n",
              "      <td>0.000000</td>\n",
              "      <td>0.000000</td>\n",
              "      <td>0.0</td>\n",
              "      <td>0.0</td>\n",
              "      <td>0.000000</td>\n",
              "      <td>0.000000</td>\n",
              "      <td>0.000000</td>\n",
              "      <td>0.000000</td>\n",
              "      <td>0.000000</td>\n",
              "      <td>0.0</td>\n",
              "      <td>0.000000</td>\n",
              "      <td>0.000000</td>\n",
              "    </tr>\n",
              "    <tr>\n",
              "      <th>4</th>\n",
              "      <td>0.000</td>\n",
              "      <td>0.000000</td>\n",
              "      <td>0.0</td>\n",
              "      <td>0.000000</td>\n",
              "      <td>0.000000</td>\n",
              "      <td>0.000000</td>\n",
              "      <td>0.0</td>\n",
              "      <td>0.0</td>\n",
              "      <td>0.000000</td>\n",
              "      <td>0.000000</td>\n",
              "      <td>0.000000</td>\n",
              "      <td>0.000000</td>\n",
              "      <td>0.000000</td>\n",
              "      <td>0.0</td>\n",
              "      <td>0.000000</td>\n",
              "      <td>0.000000</td>\n",
              "    </tr>\n",
              "    <tr>\n",
              "      <th>...</th>\n",
              "      <td>...</td>\n",
              "      <td>...</td>\n",
              "      <td>...</td>\n",
              "      <td>...</td>\n",
              "      <td>...</td>\n",
              "      <td>...</td>\n",
              "      <td>...</td>\n",
              "      <td>...</td>\n",
              "      <td>...</td>\n",
              "      <td>...</td>\n",
              "      <td>...</td>\n",
              "      <td>...</td>\n",
              "      <td>...</td>\n",
              "      <td>...</td>\n",
              "      <td>...</td>\n",
              "      <td>...</td>\n",
              "    </tr>\n",
              "    <tr>\n",
              "      <th>112</th>\n",
              "      <td>0.000</td>\n",
              "      <td>0.000000</td>\n",
              "      <td>0.0</td>\n",
              "      <td>0.000000</td>\n",
              "      <td>0.000000</td>\n",
              "      <td>0.000000</td>\n",
              "      <td>0.0</td>\n",
              "      <td>0.0</td>\n",
              "      <td>0.000000</td>\n",
              "      <td>0.000000</td>\n",
              "      <td>0.000000</td>\n",
              "      <td>0.000000</td>\n",
              "      <td>0.000000</td>\n",
              "      <td>0.0</td>\n",
              "      <td>2034.827586</td>\n",
              "      <td>2024.368421</td>\n",
              "    </tr>\n",
              "    <tr>\n",
              "      <th>113</th>\n",
              "      <td>0.000</td>\n",
              "      <td>0.000000</td>\n",
              "      <td>0.0</td>\n",
              "      <td>0.000000</td>\n",
              "      <td>0.000000</td>\n",
              "      <td>0.000000</td>\n",
              "      <td>0.0</td>\n",
              "      <td>0.0</td>\n",
              "      <td>0.000000</td>\n",
              "      <td>0.000000</td>\n",
              "      <td>0.000000</td>\n",
              "      <td>0.000000</td>\n",
              "      <td>0.000000</td>\n",
              "      <td>0.0</td>\n",
              "      <td>0.000000</td>\n",
              "      <td>1295.815789</td>\n",
              "    </tr>\n",
              "    <tr>\n",
              "      <th>114</th>\n",
              "      <td>0.000</td>\n",
              "      <td>0.000000</td>\n",
              "      <td>0.0</td>\n",
              "      <td>0.000000</td>\n",
              "      <td>0.000000</td>\n",
              "      <td>0.000000</td>\n",
              "      <td>0.0</td>\n",
              "      <td>0.0</td>\n",
              "      <td>0.000000</td>\n",
              "      <td>0.000000</td>\n",
              "      <td>0.000000</td>\n",
              "      <td>0.000000</td>\n",
              "      <td>0.000000</td>\n",
              "      <td>0.0</td>\n",
              "      <td>0.000000</td>\n",
              "      <td>868.760000</td>\n",
              "    </tr>\n",
              "    <tr>\n",
              "      <th>115</th>\n",
              "      <td>0.000</td>\n",
              "      <td>0.000000</td>\n",
              "      <td>0.0</td>\n",
              "      <td>0.000000</td>\n",
              "      <td>0.000000</td>\n",
              "      <td>0.000000</td>\n",
              "      <td>0.0</td>\n",
              "      <td>0.0</td>\n",
              "      <td>0.000000</td>\n",
              "      <td>0.000000</td>\n",
              "      <td>0.000000</td>\n",
              "      <td>0.000000</td>\n",
              "      <td>0.000000</td>\n",
              "      <td>0.0</td>\n",
              "      <td>0.000000</td>\n",
              "      <td>755.625000</td>\n",
              "    </tr>\n",
              "    <tr>\n",
              "      <th>116</th>\n",
              "      <td>0.000</td>\n",
              "      <td>0.000000</td>\n",
              "      <td>0.0</td>\n",
              "      <td>0.000000</td>\n",
              "      <td>0.000000</td>\n",
              "      <td>0.000000</td>\n",
              "      <td>0.0</td>\n",
              "      <td>0.0</td>\n",
              "      <td>0.000000</td>\n",
              "      <td>0.000000</td>\n",
              "      <td>0.000000</td>\n",
              "      <td>0.000000</td>\n",
              "      <td>0.000000</td>\n",
              "      <td>0.0</td>\n",
              "      <td>0.000000</td>\n",
              "      <td>1929.114286</td>\n",
              "    </tr>\n",
              "  </tbody>\n",
              "</table>\n",
              "<p>117 rows × 16 columns</p>\n",
              "</div>"
            ],
            "text/plain": [
              "     15-07-2020 00:00  16-07-2020 00:00  ...  29-07-2020 00:00  30-07-2020 00:00\n",
              "0            1796.125        764.588235  ...       2142.000000       1496.613636\n",
              "1               0.000          0.000000  ...          0.000000          0.000000\n",
              "2               0.000          0.000000  ...          0.000000          0.000000\n",
              "3               0.000          0.000000  ...          0.000000          0.000000\n",
              "4               0.000          0.000000  ...          0.000000          0.000000\n",
              "..                ...               ...  ...               ...               ...\n",
              "112             0.000          0.000000  ...       2034.827586       2024.368421\n",
              "113             0.000          0.000000  ...          0.000000       1295.815789\n",
              "114             0.000          0.000000  ...          0.000000        868.760000\n",
              "115             0.000          0.000000  ...          0.000000        755.625000\n",
              "116             0.000          0.000000  ...          0.000000       1929.114286\n",
              "\n",
              "[117 rows x 16 columns]"
            ]
          },
          "metadata": {},
          "execution_count": 59
        }
      ]
    },
    {
      "cell_type": "code",
      "metadata": {
        "id": "R_uPRvuhI1eH"
      },
      "source": [
        "d2.to_csv(\"NEW_DATA.csv\",index=False)"
      ],
      "execution_count": null,
      "outputs": []
    },
    {
      "cell_type": "code",
      "metadata": {
        "id": "EN9Wf2hMG8SI"
      },
      "source": [
        ""
      ],
      "execution_count": null,
      "outputs": []
    },
    {
      "cell_type": "code",
      "metadata": {
        "id": "LS4EOarOAZPN"
      },
      "source": [
        "df_temp=df[df[\"Service Date\"]==\"15-07-2020 00:00\"]"
      ],
      "execution_count": null,
      "outputs": []
    },
    {
      "cell_type": "code",
      "metadata": {
        "colab": {
          "base_uri": "https://localhost:8080/",
          "height": 423
        },
        "id": "Pl4ghOG5Ag1H",
        "outputId": "e6a7b1bf-3d1b-44bb-973e-21dea1711943"
      },
      "source": [
        "df_temp"
      ],
      "execution_count": null,
      "outputs": [
        {
          "output_type": "execute_result",
          "data": {
            "text/html": [
              "<div>\n",
              "<style scoped>\n",
              "    .dataframe tbody tr th:only-of-type {\n",
              "        vertical-align: middle;\n",
              "    }\n",
              "\n",
              "    .dataframe tbody tr th {\n",
              "        vertical-align: top;\n",
              "    }\n",
              "\n",
              "    .dataframe thead th {\n",
              "        text-align: right;\n",
              "    }\n",
              "</style>\n",
              "<table border=\"1\" class=\"dataframe\">\n",
              "  <thead>\n",
              "    <tr style=\"text-align: right;\">\n",
              "      <th></th>\n",
              "      <th>Seat Fare Type 1</th>\n",
              "      <th>Seat Fare Type 2</th>\n",
              "      <th>Bus</th>\n",
              "      <th>Service Date</th>\n",
              "      <th>RecordedAt</th>\n",
              "      <th>NEW Seat Fare Type 1</th>\n",
              "      <th>NEW Seat Fare Type 2</th>\n",
              "      <th>NEW Seat Fare Type</th>\n",
              "    </tr>\n",
              "  </thead>\n",
              "  <tbody>\n",
              "    <tr>\n",
              "      <th>0</th>\n",
              "      <td>900.00,800.00</td>\n",
              "      <td>0</td>\n",
              "      <td>0</td>\n",
              "      <td>15-07-2020 00:00</td>\n",
              "      <td>11-07-2020 16:28</td>\n",
              "      <td>1700.0</td>\n",
              "      <td>0.0</td>\n",
              "      <td>1700.0</td>\n",
              "    </tr>\n",
              "    <tr>\n",
              "      <th>1</th>\n",
              "      <td>910.00,833.00,795.00,762.00</td>\n",
              "      <td>0</td>\n",
              "      <td>0</td>\n",
              "      <td>15-07-2020 00:00</td>\n",
              "      <td>11-07-2020 19:17</td>\n",
              "      <td>3300.0</td>\n",
              "      <td>0.0</td>\n",
              "      <td>3300.0</td>\n",
              "    </tr>\n",
              "    <tr>\n",
              "      <th>2</th>\n",
              "      <td>910.00,833.00,795.00,762.00</td>\n",
              "      <td>0</td>\n",
              "      <td>0</td>\n",
              "      <td>15-07-2020 00:00</td>\n",
              "      <td>12-07-2020 09:02</td>\n",
              "      <td>3300.0</td>\n",
              "      <td>0.0</td>\n",
              "      <td>3300.0</td>\n",
              "    </tr>\n",
              "    <tr>\n",
              "      <th>3</th>\n",
              "      <td>910.00,833.00,795.00,762.00</td>\n",
              "      <td>0</td>\n",
              "      <td>0</td>\n",
              "      <td>15-07-2020 00:00</td>\n",
              "      <td>12-07-2020 10:05</td>\n",
              "      <td>3300.0</td>\n",
              "      <td>0.0</td>\n",
              "      <td>3300.0</td>\n",
              "    </tr>\n",
              "    <tr>\n",
              "      <th>4</th>\n",
              "      <td>876.00,800.00,767.00,729.00</td>\n",
              "      <td>0</td>\n",
              "      <td>0</td>\n",
              "      <td>15-07-2020 00:00</td>\n",
              "      <td>13-07-2020 01:53</td>\n",
              "      <td>3172.0</td>\n",
              "      <td>0.0</td>\n",
              "      <td>3172.0</td>\n",
              "    </tr>\n",
              "    <tr>\n",
              "      <th>...</th>\n",
              "      <td>...</td>\n",
              "      <td>...</td>\n",
              "      <td>...</td>\n",
              "      <td>...</td>\n",
              "      <td>...</td>\n",
              "      <td>...</td>\n",
              "      <td>...</td>\n",
              "      <td>...</td>\n",
              "    </tr>\n",
              "    <tr>\n",
              "      <th>2741</th>\n",
              "      <td>810.00,1200.00</td>\n",
              "      <td>0</td>\n",
              "      <td>64</td>\n",
              "      <td>15-07-2020 00:00</td>\n",
              "      <td>15-07-2020 14:06</td>\n",
              "      <td>2010.0</td>\n",
              "      <td>0.0</td>\n",
              "      <td>2010.0</td>\n",
              "    </tr>\n",
              "    <tr>\n",
              "      <th>2742</th>\n",
              "      <td>810.00,1200.00</td>\n",
              "      <td>0</td>\n",
              "      <td>64</td>\n",
              "      <td>15-07-2020 00:00</td>\n",
              "      <td>15-07-2020 16:55</td>\n",
              "      <td>2010.0</td>\n",
              "      <td>0.0</td>\n",
              "      <td>2010.0</td>\n",
              "    </tr>\n",
              "    <tr>\n",
              "      <th>2743</th>\n",
              "      <td>810.00,1200.00</td>\n",
              "      <td>0</td>\n",
              "      <td>64</td>\n",
              "      <td>15-07-2020 00:00</td>\n",
              "      <td>15-07-2020 17:18</td>\n",
              "      <td>2010.0</td>\n",
              "      <td>0.0</td>\n",
              "      <td>2010.0</td>\n",
              "    </tr>\n",
              "    <tr>\n",
              "      <th>2744</th>\n",
              "      <td>810.00,1200.00</td>\n",
              "      <td>0</td>\n",
              "      <td>64</td>\n",
              "      <td>15-07-2020 00:00</td>\n",
              "      <td>15-07-2020 17:38</td>\n",
              "      <td>2010.0</td>\n",
              "      <td>0.0</td>\n",
              "      <td>2010.0</td>\n",
              "    </tr>\n",
              "    <tr>\n",
              "      <th>2745</th>\n",
              "      <td>810.00,1200.00</td>\n",
              "      <td>0</td>\n",
              "      <td>64</td>\n",
              "      <td>15-07-2020 00:00</td>\n",
              "      <td>15-07-2020 18:03</td>\n",
              "      <td>2010.0</td>\n",
              "      <td>0.0</td>\n",
              "      <td>2010.0</td>\n",
              "    </tr>\n",
              "  </tbody>\n",
              "</table>\n",
              "<p>2746 rows × 8 columns</p>\n",
              "</div>"
            ],
            "text/plain": [
              "                 Seat Fare Type 1  ... NEW Seat Fare Type\n",
              "0                   900.00,800.00  ...             1700.0\n",
              "1     910.00,833.00,795.00,762.00  ...             3300.0\n",
              "2     910.00,833.00,795.00,762.00  ...             3300.0\n",
              "3     910.00,833.00,795.00,762.00  ...             3300.0\n",
              "4     876.00,800.00,767.00,729.00  ...             3172.0\n",
              "...                           ...  ...                ...\n",
              "2741               810.00,1200.00  ...             2010.0\n",
              "2742               810.00,1200.00  ...             2010.0\n",
              "2743               810.00,1200.00  ...             2010.0\n",
              "2744               810.00,1200.00  ...             2010.0\n",
              "2745               810.00,1200.00  ...             2010.0\n",
              "\n",
              "[2746 rows x 8 columns]"
            ]
          },
          "metadata": {},
          "execution_count": 29
        }
      ]
    },
    {
      "cell_type": "code",
      "metadata": {
        "id": "K3_pI4XlAh1G"
      },
      "source": [
        "df_temp2=df_temp.groupby(\"Bus\")"
      ],
      "execution_count": null,
      "outputs": []
    },
    {
      "cell_type": "code",
      "metadata": {
        "id": "axKQn0NLAnw2"
      },
      "source": [
        "x=[]\n",
        "y=[]\n",
        "for bus,df_t in df_temp2:\n",
        "  # print(bus)\n",
        "  x.append(bus)\n",
        "  y.append(np.mean(df_t[\"NEW Seat Fare Type\"]))\n",
        "  # print(np.mean(df_t[\"NEW Seat Fare Type\"]))"
      ],
      "execution_count": null,
      "outputs": []
    },
    {
      "cell_type": "code",
      "metadata": {
        "id": "xq0ZbTUMDEZL"
      },
      "source": [
        "%matplotlib inline\n",
        "import matplotlib.pyplot as plt"
      ],
      "execution_count": null,
      "outputs": []
    },
    {
      "cell_type": "code",
      "metadata": {
        "colab": {
          "base_uri": "https://localhost:8080/",
          "height": 286
        },
        "id": "PlwYpc_LEOZg",
        "outputId": "d576666d-d924-4bf0-c583-cdd268e1c0d4"
      },
      "source": [
        "np.corr(y)"
      ],
      "execution_count": null,
      "outputs": [
        {
          "output_type": "error",
          "ename": "AttributeError",
          "evalue": "ignored",
          "traceback": [
            "\u001b[0;31m---------------------------------------------------------------------------\u001b[0m",
            "\u001b[0;31mAttributeError\u001b[0m                            Traceback (most recent call last)",
            "\u001b[0;32m<ipython-input-44-a6983c2a8ec1>\u001b[0m in \u001b[0;36m<module>\u001b[0;34m()\u001b[0m\n\u001b[0;32m----> 1\u001b[0;31m \u001b[0mnp\u001b[0m\u001b[0;34m.\u001b[0m\u001b[0mcorr\u001b[0m\u001b[0;34m(\u001b[0m\u001b[0my\u001b[0m\u001b[0;34m)\u001b[0m\u001b[0;34m\u001b[0m\u001b[0;34m\u001b[0m\u001b[0m\n\u001b[0m",
            "\u001b[0;32m/usr/local/lib/python3.7/dist-packages/numpy/__init__.py\u001b[0m in \u001b[0;36m__getattr__\u001b[0;34m(attr)\u001b[0m\n\u001b[1;32m    213\u001b[0m             \u001b[0;32melse\u001b[0m\u001b[0;34m:\u001b[0m\u001b[0;34m\u001b[0m\u001b[0;34m\u001b[0m\u001b[0m\n\u001b[1;32m    214\u001b[0m                 raise AttributeError(\"module {!r} has no attribute \"\n\u001b[0;32m--> 215\u001b[0;31m                                      \"{!r}\".format(__name__, attr))\n\u001b[0m\u001b[1;32m    216\u001b[0m \u001b[0;34m\u001b[0m\u001b[0m\n\u001b[1;32m    217\u001b[0m         \u001b[0;32mdef\u001b[0m \u001b[0m__dir__\u001b[0m\u001b[0;34m(\u001b[0m\u001b[0;34m)\u001b[0m\u001b[0;34m:\u001b[0m\u001b[0;34m\u001b[0m\u001b[0;34m\u001b[0m\u001b[0m\n",
            "\u001b[0;31mAttributeError\u001b[0m: module 'numpy' has no attribute 'corr'"
          ]
        }
      ]
    },
    {
      "cell_type": "code",
      "metadata": {
        "id": "qnQuPDVjEf04"
      },
      "source": [
        ""
      ],
      "execution_count": null,
      "outputs": []
    }
  ]
}